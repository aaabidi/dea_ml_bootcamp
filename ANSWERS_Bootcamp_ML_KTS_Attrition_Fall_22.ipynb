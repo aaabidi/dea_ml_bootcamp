{
  "nbformat": 4,
  "nbformat_minor": 0,
  "metadata": {
    "kernelspec": {
      "display_name": "Python (showenv)",
      "language": "python",
      "name": "showenv"
    },
    "language_info": {
      "codemirror_mode": {
        "name": "ipython",
        "version": 3
      },
      "file_extension": ".py",
      "mimetype": "text/x-python",
      "name": "python",
      "nbconvert_exporter": "python",
      "pygments_lexer": "ipython3",
      "version": "3.7.3"
    },
    "colab": {
      "provenance": []
    }
  },
  "cells": [
    {
      "cell_type": "markdown",
      "metadata": {
        "id": "xHb_wLjWpj8Y"
      },
      "source": [
        "# ----- ANSWERS -----\n",
        "# WMP ML KTS Tutorial: Predicting Attrition with Machine Learning\n",
        "\n",
        "Name:\n",
        "\n",
        "Date:\n",
        "\n",
        "In this KTS, we will walk through a simplified process for what it is like to develop a Data Science project. The basic structure involves reading passages of information, and finishing exercises that are outlined for you. In some cases, there are bonus development opportunities for those that are interested. To accommodate all skill levels, here are some hotlinks that will be helpful for conducting the lab. These were sent out well ahead of time.\n",
        "\n",
        "Additionally, for those that just want to follow-along, a link with the answers to this notebook has been provided. **Please do not look at the answers until you have tried the section yourself**.\n",
        "\n",
        "**Python** will be the language with which you complete this lab. Some basic syntax and structure information is provided below. **Pandas** is Python's de-facto data management tool for data science, and relies heavily on dataframes. **Numpy** is a mathematics and linear algebra library that helps with general math operations, and **Sci-kit Learn** is Python's most basic and easy-to-use machine learning package.\n",
        "\n",
        "- Basic [Python](https://perso.limsi.fr/pointal/_media/python:cours:mementopython3-english.pdf) reference\n",
        "- [Pandas](https://pandas.pydata.org/Pandas_Cheat_Sheet.pdf) reference\n",
        "- [Numpy](https://s3.amazonaws.com/assets.datacamp.com/blog_assets/Numpy_Python_Cheat_Sheet.pdf) reference\n",
        "- [Sci-kit Learn](https://s3.amazonaws.com/assets.datacamp.com/blog_assets/Scikit_Learn_Cheat_Sheet_Python.pdf) reference\n",
        "\n",
        "**YOU DO NOT NEED TO DOWNLOAD A PYTHON ENVIRONMENT TO YOUR LOCAL MACHINE. THIS ENVIRONMENT WILL BE PROVIDED FOR YOU THROUGH GOOGLE COLAB**\n",
        "\n",
        "**Support:** If something does not work or make sense in this tutorial, please reach out to [Ammar Abidi](mailto:aabidi@wmp.com)\n",
        "\n",
        "## Agenda (60 minutes)\n",
        "\n",
        "- **\\[1., 2.\\]** Introduction, Imports, Reading in Data -- **5 minutes**\n",
        "    - Import packages\n",
        "    - Read in data\n",
        "- **\\[3.\\]** EDA, Data Quality Analysis -- **15 minutes**\n",
        "- **\\[4.\\]** Feature Engineering -- **30 minutes**\n",
        "    - a. Variable Selection\n",
        "    - b. Categorical data\n",
        "    - c. Ordinal data\n",
        "    - d. Boolean data\n",
        "    - e. Numeric Data\n",
        "    - f. Finalizing dataset\n",
        "- **\\[5.\\]** Splitting data, Modeling, Performance Evaluation -- **15 minutes**\n",
        "    - a. Importing models\n",
        "    - b. Splitting data\n",
        "    - c. Training models\n",
        "    - d. Generating predictions\n",
        "    - e. Evaluating performance\n",
        "    - f. Unsupervised learning and analysis\n"
      ]
    },
    {
      "cell_type": "markdown",
      "metadata": {
        "id": "UZQKhAy9pj8h"
      },
      "source": [
        "## 1. Python Library and Package Imports\n",
        "\n",
        "Feel free to import any of your own custom packages in the labeled section below along with pandas"
      ]
    },
    {
      "cell_type": "code",
      "metadata": {
        "scrolled": true,
        "id": "bzYTFBBCpj8i"
      },
      "source": [
        "# IMPORT DATA MANAGEMENT TOOL PANDAS AND GIVE IT THE ALIAS pd\n",
        "import pandas as pd\n",
        "\n",
        "# IMPORT NUMPY AND GIVE IT THE ALIAS np\n",
        "import numpy as np"
      ],
      "execution_count": null,
      "outputs": []
    },
    {
      "cell_type": "markdown",
      "metadata": {
        "id": "Ztz_MRJHpj8j"
      },
      "source": [
        "## 2. Read in Data\n",
        "\n",
        "See if you can read in the .csv data to a dataframe using Pandas. Feel free to use the cheatsheets, Google.com, and Stack Overflow for help. The filepath is listed below.\n",
        "\n",
        "https://raw.githubusercontent.com/jswortz/UIC_Clustering_Code_2019/master/data/WA_Fn-UseC_-HR-Employee-Attrition.csv\n",
        "\n",
        "**EXERCISE:** Please read in the data to the variable named df (shorthand for DataFrame), then double check that it imported successfully. Run the cell below your input and verify there are 1470 rows and 35 columns"
      ]
    },
    {
      "cell_type": "code",
      "metadata": {
        "id": "jAGBbxRLpj8j"
      },
      "source": [
        "#WRITE YOUR CODE HERE TO READ IN DATA\n",
        "df = pd.read_csv(\"https://raw.githubusercontent.com/jswortz/UIC_Clustering_Code_2019/master/data/WA_Fn-UseC_-HR-Employee-Attrition.csv\")"
      ],
      "execution_count": null,
      "outputs": []
    },
    {
      "cell_type": "code",
      "metadata": {
        "id": "GsU2Ntpmpj8k",
        "colab": {
          "base_uri": "https://localhost:8080/",
          "height": 185
        },
        "outputId": "77bd69b5-4ee7-42a3-f0d9-d0a4d0003bdf"
      },
      "source": [
        "#Verify the data shape\n",
        "(\"Data Shape: {} rows x {} cols\".format(len(df), len(df.columns)))"
      ],
      "execution_count": 1,
      "outputs": [
        {
          "output_type": "error",
          "ename": "NameError",
          "evalue": "ignored",
          "traceback": [
            "\u001b[0;31m---------------------------------------------------------------------------\u001b[0m",
            "\u001b[0;31mNameError\u001b[0m                                 Traceback (most recent call last)",
            "\u001b[0;32m<ipython-input-1-77ff35413841>\u001b[0m in \u001b[0;36m<cell line: 2>\u001b[0;34m()\u001b[0m\n\u001b[1;32m      1\u001b[0m \u001b[0;31m#Verify the data shape\u001b[0m\u001b[0;34m\u001b[0m\u001b[0;34m\u001b[0m\u001b[0m\n\u001b[0;32m----> 2\u001b[0;31m \u001b[0;34m(\u001b[0m\u001b[0;34m\"Data Shape: {} rows x {} cols\"\u001b[0m\u001b[0;34m.\u001b[0m\u001b[0mformat\u001b[0m\u001b[0;34m(\u001b[0m\u001b[0mlen\u001b[0m\u001b[0;34m(\u001b[0m\u001b[0mdf\u001b[0m\u001b[0;34m)\u001b[0m\u001b[0;34m,\u001b[0m \u001b[0mlen\u001b[0m\u001b[0;34m(\u001b[0m\u001b[0mdf\u001b[0m\u001b[0;34m.\u001b[0m\u001b[0mcolumns\u001b[0m\u001b[0;34m)\u001b[0m\u001b[0;34m)\u001b[0m\u001b[0;34m)\u001b[0m\u001b[0;34m\u001b[0m\u001b[0;34m\u001b[0m\u001b[0m\n\u001b[0m",
            "\u001b[0;31mNameError\u001b[0m: name 'df' is not defined"
          ]
        }
      ]
    },
    {
      "cell_type": "markdown",
      "metadata": {
        "id": "nh0juvScpj8m"
      },
      "source": [
        "## 3. Check Data Quality\n",
        "\n",
        "The first thing to do after reading in the data is check data quality and do EDA. Generally, EDA is a fairly long process on its own, but for the sake of time we have cut out a large portion of that. You can see a completed EDA notebook [here]() for reference later on in the lab.\n",
        "\n",
        "Machine Learning models are very sensitive to and intolerant of ill-formatted and missing data. Therefore, the following exercises will allow us to better grasp data quality and fix any issues.\n",
        "\n",
        "**EXERCISE:** See if you can find a snappy command to view any missing values in the dataframe, by column name."
      ]
    },
    {
      "cell_type": "code",
      "metadata": {
        "id": "fZpwPsNppj8m",
        "outputId": "f86e8485-6a20-44d3-a71d-01e026f78f28",
        "colab": {
          "base_uri": "https://localhost:8080/"
        }
      },
      "source": [
        "# WRITE YOUR CODE HERE TO CHECK FOR NULL DATA\n",
        "df.isnull().sum()"
      ],
      "execution_count": null,
      "outputs": [
        {
          "output_type": "execute_result",
          "data": {
            "text/plain": [
              "Age                         0\n",
              "Attrition                   0\n",
              "BusinessTravel              0\n",
              "DailyRate                   0\n",
              "Department                  0\n",
              "DistanceFromHome            0\n",
              "Education                   0\n",
              "EducationField              0\n",
              "EmployeeCount               0\n",
              "EmployeeNumber              0\n",
              "EnvironmentSatisfaction     0\n",
              "Gender                      0\n",
              "HourlyRate                  0\n",
              "JobInvolvement              0\n",
              "JobLevel                    0\n",
              "JobRole                     0\n",
              "JobSatisfaction             0\n",
              "MaritalStatus               0\n",
              "MonthlyIncome               0\n",
              "MonthlyRate                 0\n",
              "NumCompaniesWorked          0\n",
              "Over18                      0\n",
              "OverTime                    0\n",
              "PercentSalaryHike           0\n",
              "PerformanceRating           0\n",
              "RelationshipSatisfaction    0\n",
              "StandardHours               0\n",
              "StockOptionLevel            0\n",
              "TotalWorkingYears           0\n",
              "TrainingTimesLastYear       0\n",
              "WorkLifeBalance             0\n",
              "YearsAtCompany              0\n",
              "YearsInCurrentRole          0\n",
              "YearsSinceLastPromotion     0\n",
              "YearsWithCurrManager        0\n",
              "dtype: int64"
            ]
          },
          "metadata": {},
          "execution_count": 44
        }
      ]
    },
    {
      "cell_type": "markdown",
      "metadata": {
        "id": "J-XblJr7pj8n"
      },
      "source": [
        "Lucky us! As you can see there is no missing data. Now, we need to determine what data type each column is. This will help us determine what columns we should drop and which need manipulation to be better for modeling.\n",
        "\n",
        "**EXERCISE:** See if you can find a way to view the data type of each column, either by looking at a snapshot of the dataframe or by printing the data types."
      ]
    },
    {
      "cell_type": "code",
      "metadata": {
        "id": "21bk2Hrkpj8n",
        "outputId": "d0517452-ed66-45f8-df2f-f7d8aae51824",
        "colab": {
          "base_uri": "https://localhost:8080/",
          "height": 330
        }
      },
      "source": [
        "#PRINT THE TOP FIVE ROWS OF THE DATAFRAME HERE\n",
        "df.head()"
      ],
      "execution_count": null,
      "outputs": [
        {
          "output_type": "execute_result",
          "data": {
            "text/plain": [
              "   Age Attrition     BusinessTravel  DailyRate              Department  \\\n",
              "0   41       Yes      Travel_Rarely       1102                   Sales   \n",
              "1   49        No  Travel_Frequently        279  Research & Development   \n",
              "2   37       Yes      Travel_Rarely       1373  Research & Development   \n",
              "3   33        No  Travel_Frequently       1392  Research & Development   \n",
              "4   27        No      Travel_Rarely        591  Research & Development   \n",
              "\n",
              "   DistanceFromHome  Education EducationField  EmployeeCount  EmployeeNumber  \\\n",
              "0                 1          2  Life Sciences              1               1   \n",
              "1                 8          1  Life Sciences              1               2   \n",
              "2                 2          2          Other              1               4   \n",
              "3                 3          4  Life Sciences              1               5   \n",
              "4                 2          1        Medical              1               7   \n",
              "\n",
              "   ...  RelationshipSatisfaction StandardHours  StockOptionLevel  \\\n",
              "0  ...                         1            80                 0   \n",
              "1  ...                         4            80                 1   \n",
              "2  ...                         2            80                 0   \n",
              "3  ...                         3            80                 0   \n",
              "4  ...                         4            80                 1   \n",
              "\n",
              "   TotalWorkingYears  TrainingTimesLastYear WorkLifeBalance  YearsAtCompany  \\\n",
              "0                  8                      0               1               6   \n",
              "1                 10                      3               3              10   \n",
              "2                  7                      3               3               0   \n",
              "3                  8                      3               3               8   \n",
              "4                  6                      3               3               2   \n",
              "\n",
              "  YearsInCurrentRole  YearsSinceLastPromotion  YearsWithCurrManager  \n",
              "0                  4                        0                     5  \n",
              "1                  7                        1                     7  \n",
              "2                  0                        0                     0  \n",
              "3                  7                        3                     0  \n",
              "4                  2                        2                     2  \n",
              "\n",
              "[5 rows x 35 columns]"
            ],
            "text/html": [
              "\n",
              "  <div id=\"df-38648d0b-6c4d-4eb5-a49b-6bf8d1faf6fe\">\n",
              "    <div class=\"colab-df-container\">\n",
              "      <div>\n",
              "<style scoped>\n",
              "    .dataframe tbody tr th:only-of-type {\n",
              "        vertical-align: middle;\n",
              "    }\n",
              "\n",
              "    .dataframe tbody tr th {\n",
              "        vertical-align: top;\n",
              "    }\n",
              "\n",
              "    .dataframe thead th {\n",
              "        text-align: right;\n",
              "    }\n",
              "</style>\n",
              "<table border=\"1\" class=\"dataframe\">\n",
              "  <thead>\n",
              "    <tr style=\"text-align: right;\">\n",
              "      <th></th>\n",
              "      <th>Age</th>\n",
              "      <th>Attrition</th>\n",
              "      <th>BusinessTravel</th>\n",
              "      <th>DailyRate</th>\n",
              "      <th>Department</th>\n",
              "      <th>DistanceFromHome</th>\n",
              "      <th>Education</th>\n",
              "      <th>EducationField</th>\n",
              "      <th>EmployeeCount</th>\n",
              "      <th>EmployeeNumber</th>\n",
              "      <th>...</th>\n",
              "      <th>RelationshipSatisfaction</th>\n",
              "      <th>StandardHours</th>\n",
              "      <th>StockOptionLevel</th>\n",
              "      <th>TotalWorkingYears</th>\n",
              "      <th>TrainingTimesLastYear</th>\n",
              "      <th>WorkLifeBalance</th>\n",
              "      <th>YearsAtCompany</th>\n",
              "      <th>YearsInCurrentRole</th>\n",
              "      <th>YearsSinceLastPromotion</th>\n",
              "      <th>YearsWithCurrManager</th>\n",
              "    </tr>\n",
              "  </thead>\n",
              "  <tbody>\n",
              "    <tr>\n",
              "      <th>0</th>\n",
              "      <td>41</td>\n",
              "      <td>Yes</td>\n",
              "      <td>Travel_Rarely</td>\n",
              "      <td>1102</td>\n",
              "      <td>Sales</td>\n",
              "      <td>1</td>\n",
              "      <td>2</td>\n",
              "      <td>Life Sciences</td>\n",
              "      <td>1</td>\n",
              "      <td>1</td>\n",
              "      <td>...</td>\n",
              "      <td>1</td>\n",
              "      <td>80</td>\n",
              "      <td>0</td>\n",
              "      <td>8</td>\n",
              "      <td>0</td>\n",
              "      <td>1</td>\n",
              "      <td>6</td>\n",
              "      <td>4</td>\n",
              "      <td>0</td>\n",
              "      <td>5</td>\n",
              "    </tr>\n",
              "    <tr>\n",
              "      <th>1</th>\n",
              "      <td>49</td>\n",
              "      <td>No</td>\n",
              "      <td>Travel_Frequently</td>\n",
              "      <td>279</td>\n",
              "      <td>Research &amp; Development</td>\n",
              "      <td>8</td>\n",
              "      <td>1</td>\n",
              "      <td>Life Sciences</td>\n",
              "      <td>1</td>\n",
              "      <td>2</td>\n",
              "      <td>...</td>\n",
              "      <td>4</td>\n",
              "      <td>80</td>\n",
              "      <td>1</td>\n",
              "      <td>10</td>\n",
              "      <td>3</td>\n",
              "      <td>3</td>\n",
              "      <td>10</td>\n",
              "      <td>7</td>\n",
              "      <td>1</td>\n",
              "      <td>7</td>\n",
              "    </tr>\n",
              "    <tr>\n",
              "      <th>2</th>\n",
              "      <td>37</td>\n",
              "      <td>Yes</td>\n",
              "      <td>Travel_Rarely</td>\n",
              "      <td>1373</td>\n",
              "      <td>Research &amp; Development</td>\n",
              "      <td>2</td>\n",
              "      <td>2</td>\n",
              "      <td>Other</td>\n",
              "      <td>1</td>\n",
              "      <td>4</td>\n",
              "      <td>...</td>\n",
              "      <td>2</td>\n",
              "      <td>80</td>\n",
              "      <td>0</td>\n",
              "      <td>7</td>\n",
              "      <td>3</td>\n",
              "      <td>3</td>\n",
              "      <td>0</td>\n",
              "      <td>0</td>\n",
              "      <td>0</td>\n",
              "      <td>0</td>\n",
              "    </tr>\n",
              "    <tr>\n",
              "      <th>3</th>\n",
              "      <td>33</td>\n",
              "      <td>No</td>\n",
              "      <td>Travel_Frequently</td>\n",
              "      <td>1392</td>\n",
              "      <td>Research &amp; Development</td>\n",
              "      <td>3</td>\n",
              "      <td>4</td>\n",
              "      <td>Life Sciences</td>\n",
              "      <td>1</td>\n",
              "      <td>5</td>\n",
              "      <td>...</td>\n",
              "      <td>3</td>\n",
              "      <td>80</td>\n",
              "      <td>0</td>\n",
              "      <td>8</td>\n",
              "      <td>3</td>\n",
              "      <td>3</td>\n",
              "      <td>8</td>\n",
              "      <td>7</td>\n",
              "      <td>3</td>\n",
              "      <td>0</td>\n",
              "    </tr>\n",
              "    <tr>\n",
              "      <th>4</th>\n",
              "      <td>27</td>\n",
              "      <td>No</td>\n",
              "      <td>Travel_Rarely</td>\n",
              "      <td>591</td>\n",
              "      <td>Research &amp; Development</td>\n",
              "      <td>2</td>\n",
              "      <td>1</td>\n",
              "      <td>Medical</td>\n",
              "      <td>1</td>\n",
              "      <td>7</td>\n",
              "      <td>...</td>\n",
              "      <td>4</td>\n",
              "      <td>80</td>\n",
              "      <td>1</td>\n",
              "      <td>6</td>\n",
              "      <td>3</td>\n",
              "      <td>3</td>\n",
              "      <td>2</td>\n",
              "      <td>2</td>\n",
              "      <td>2</td>\n",
              "      <td>2</td>\n",
              "    </tr>\n",
              "  </tbody>\n",
              "</table>\n",
              "<p>5 rows × 35 columns</p>\n",
              "</div>\n",
              "      <button class=\"colab-df-convert\" onclick=\"convertToInteractive('df-38648d0b-6c4d-4eb5-a49b-6bf8d1faf6fe')\"\n",
              "              title=\"Convert this dataframe to an interactive table.\"\n",
              "              style=\"display:none;\">\n",
              "        \n",
              "  <svg xmlns=\"http://www.w3.org/2000/svg\" height=\"24px\"viewBox=\"0 0 24 24\"\n",
              "       width=\"24px\">\n",
              "    <path d=\"M0 0h24v24H0V0z\" fill=\"none\"/>\n",
              "    <path d=\"M18.56 5.44l.94 2.06.94-2.06 2.06-.94-2.06-.94-.94-2.06-.94 2.06-2.06.94zm-11 1L8.5 8.5l.94-2.06 2.06-.94-2.06-.94L8.5 2.5l-.94 2.06-2.06.94zm10 10l.94 2.06.94-2.06 2.06-.94-2.06-.94-.94-2.06-.94 2.06-2.06.94z\"/><path d=\"M17.41 7.96l-1.37-1.37c-.4-.4-.92-.59-1.43-.59-.52 0-1.04.2-1.43.59L10.3 9.45l-7.72 7.72c-.78.78-.78 2.05 0 2.83L4 21.41c.39.39.9.59 1.41.59.51 0 1.02-.2 1.41-.59l7.78-7.78 2.81-2.81c.8-.78.8-2.07 0-2.86zM5.41 20L4 18.59l7.72-7.72 1.47 1.35L5.41 20z\"/>\n",
              "  </svg>\n",
              "      </button>\n",
              "      \n",
              "  <style>\n",
              "    .colab-df-container {\n",
              "      display:flex;\n",
              "      flex-wrap:wrap;\n",
              "      gap: 12px;\n",
              "    }\n",
              "\n",
              "    .colab-df-convert {\n",
              "      background-color: #E8F0FE;\n",
              "      border: none;\n",
              "      border-radius: 50%;\n",
              "      cursor: pointer;\n",
              "      display: none;\n",
              "      fill: #1967D2;\n",
              "      height: 32px;\n",
              "      padding: 0 0 0 0;\n",
              "      width: 32px;\n",
              "    }\n",
              "\n",
              "    .colab-df-convert:hover {\n",
              "      background-color: #E2EBFA;\n",
              "      box-shadow: 0px 1px 2px rgba(60, 64, 67, 0.3), 0px 1px 3px 1px rgba(60, 64, 67, 0.15);\n",
              "      fill: #174EA6;\n",
              "    }\n",
              "\n",
              "    [theme=dark] .colab-df-convert {\n",
              "      background-color: #3B4455;\n",
              "      fill: #D2E3FC;\n",
              "    }\n",
              "\n",
              "    [theme=dark] .colab-df-convert:hover {\n",
              "      background-color: #434B5C;\n",
              "      box-shadow: 0px 1px 3px 1px rgba(0, 0, 0, 0.15);\n",
              "      filter: drop-shadow(0px 1px 2px rgba(0, 0, 0, 0.3));\n",
              "      fill: #FFFFFF;\n",
              "    }\n",
              "  </style>\n",
              "\n",
              "      <script>\n",
              "        const buttonEl =\n",
              "          document.querySelector('#df-38648d0b-6c4d-4eb5-a49b-6bf8d1faf6fe button.colab-df-convert');\n",
              "        buttonEl.style.display =\n",
              "          google.colab.kernel.accessAllowed ? 'block' : 'none';\n",
              "\n",
              "        async function convertToInteractive(key) {\n",
              "          const element = document.querySelector('#df-38648d0b-6c4d-4eb5-a49b-6bf8d1faf6fe');\n",
              "          const dataTable =\n",
              "            await google.colab.kernel.invokeFunction('convertToInteractive',\n",
              "                                                     [key], {});\n",
              "          if (!dataTable) return;\n",
              "\n",
              "          const docLinkHtml = 'Like what you see? Visit the ' +\n",
              "            '<a target=\"_blank\" href=https://colab.research.google.com/notebooks/data_table.ipynb>data table notebook</a>'\n",
              "            + ' to learn more about interactive tables.';\n",
              "          element.innerHTML = '';\n",
              "          dataTable['output_type'] = 'display_data';\n",
              "          await google.colab.output.renderOutput(dataTable, element);\n",
              "          const docLink = document.createElement('div');\n",
              "          docLink.innerHTML = docLinkHtml;\n",
              "          element.appendChild(docLink);\n",
              "        }\n",
              "      </script>\n",
              "    </div>\n",
              "  </div>\n",
              "  "
            ]
          },
          "metadata": {},
          "execution_count": 45
        },
        {
          "output_type": "stream",
          "name": "stdout",
          "text": [
            "Warning: Total number of columns (35) exceeds max_columns (20) limiting to first (20) columns.\n"
          ]
        }
      ]
    },
    {
      "cell_type": "code",
      "metadata": {
        "id": "iUBQmqXkpj8o",
        "outputId": "af653fd1-8199-462f-b0b0-57f3333441ab",
        "colab": {
          "base_uri": "https://localhost:8080/"
        }
      },
      "source": [
        "#PRINT THE DATA TYPES, BY COLUMN, of THE DATAFRAME HERE\n",
        "df.dtypes"
      ],
      "execution_count": null,
      "outputs": [
        {
          "output_type": "execute_result",
          "data": {
            "text/plain": [
              "Age                          int64\n",
              "Attrition                   object\n",
              "BusinessTravel              object\n",
              "DailyRate                    int64\n",
              "Department                  object\n",
              "DistanceFromHome             int64\n",
              "Education                    int64\n",
              "EducationField              object\n",
              "EmployeeCount                int64\n",
              "EmployeeNumber               int64\n",
              "EnvironmentSatisfaction      int64\n",
              "Gender                      object\n",
              "HourlyRate                   int64\n",
              "JobInvolvement               int64\n",
              "JobLevel                     int64\n",
              "JobRole                     object\n",
              "JobSatisfaction              int64\n",
              "MaritalStatus               object\n",
              "MonthlyIncome                int64\n",
              "MonthlyRate                  int64\n",
              "NumCompaniesWorked           int64\n",
              "Over18                      object\n",
              "OverTime                    object\n",
              "PercentSalaryHike            int64\n",
              "PerformanceRating            int64\n",
              "RelationshipSatisfaction     int64\n",
              "StandardHours                int64\n",
              "StockOptionLevel             int64\n",
              "TotalWorkingYears            int64\n",
              "TrainingTimesLastYear        int64\n",
              "WorkLifeBalance              int64\n",
              "YearsAtCompany               int64\n",
              "YearsInCurrentRole           int64\n",
              "YearsSinceLastPromotion      int64\n",
              "YearsWithCurrManager         int64\n",
              "dtype: object"
            ]
          },
          "metadata": {},
          "execution_count": 46
        }
      ]
    },
    {
      "cell_type": "markdown",
      "metadata": {
        "id": "Tps7D_z1pj8o"
      },
      "source": [
        "Interesting. There are several fields with a data type of \"object\". Use your data engineering skills to further understand what they are.\n",
        "\n",
        "**EXERCISE:** First, list out the names of all the columns with a data type of `object`. Then, show a snapshot of the dataframe for only these columns. **BONUS**: Do this without manually listing the column names using the `select_dtypes` function."
      ]
    },
    {
      "cell_type": "code",
      "metadata": {
        "id": "IsCJ_Eqjpj8p",
        "outputId": "b164d9bd-3d61-4fc3-e0ce-c7424ac81773",
        "colab": {
          "base_uri": "https://localhost:8080/"
        }
      },
      "source": [
        "#WRITE YOUR CODE HERE FOR OBJECT DATA TYPE COLUMNS\n",
        "df.select_dtypes(object).columns"
      ],
      "execution_count": null,
      "outputs": [
        {
          "output_type": "execute_result",
          "data": {
            "text/plain": [
              "Index(['Attrition', 'BusinessTravel', 'Department', 'EducationField', 'Gender',\n",
              "       'JobRole', 'MaritalStatus', 'Over18', 'OverTime'],\n",
              "      dtype='object')"
            ]
          },
          "metadata": {},
          "execution_count": 47
        }
      ]
    },
    {
      "cell_type": "code",
      "metadata": {
        "id": "OiIcKDdDpj8p",
        "outputId": "d51ec914-8613-4394-c5de-64f7fd2deaf3",
        "colab": {
          "base_uri": "https://localhost:8080/",
          "height": 206
        }
      },
      "source": [
        "#PRINT A SNAPSHOT OF ALL OBJECT FIELDS IN DATAFRAME\n",
        "df.loc[:,df.select_dtypes(object).columns].head()"
      ],
      "execution_count": null,
      "outputs": [
        {
          "output_type": "execute_result",
          "data": {
            "text/plain": [
              "  Attrition     BusinessTravel              Department EducationField  Gender  \\\n",
              "0       Yes      Travel_Rarely                   Sales  Life Sciences  Female   \n",
              "1        No  Travel_Frequently  Research & Development  Life Sciences    Male   \n",
              "2       Yes      Travel_Rarely  Research & Development          Other    Male   \n",
              "3        No  Travel_Frequently  Research & Development  Life Sciences  Female   \n",
              "4        No      Travel_Rarely  Research & Development        Medical    Male   \n",
              "\n",
              "                 JobRole MaritalStatus Over18 OverTime  \n",
              "0        Sales Executive        Single      Y      Yes  \n",
              "1     Research Scientist       Married      Y       No  \n",
              "2  Laboratory Technician        Single      Y      Yes  \n",
              "3     Research Scientist       Married      Y      Yes  \n",
              "4  Laboratory Technician       Married      Y       No  "
            ],
            "text/html": [
              "\n",
              "  <div id=\"df-885ba256-8549-4d3b-9a43-c5552fa03fe7\">\n",
              "    <div class=\"colab-df-container\">\n",
              "      <div>\n",
              "<style scoped>\n",
              "    .dataframe tbody tr th:only-of-type {\n",
              "        vertical-align: middle;\n",
              "    }\n",
              "\n",
              "    .dataframe tbody tr th {\n",
              "        vertical-align: top;\n",
              "    }\n",
              "\n",
              "    .dataframe thead th {\n",
              "        text-align: right;\n",
              "    }\n",
              "</style>\n",
              "<table border=\"1\" class=\"dataframe\">\n",
              "  <thead>\n",
              "    <tr style=\"text-align: right;\">\n",
              "      <th></th>\n",
              "      <th>Attrition</th>\n",
              "      <th>BusinessTravel</th>\n",
              "      <th>Department</th>\n",
              "      <th>EducationField</th>\n",
              "      <th>Gender</th>\n",
              "      <th>JobRole</th>\n",
              "      <th>MaritalStatus</th>\n",
              "      <th>Over18</th>\n",
              "      <th>OverTime</th>\n",
              "    </tr>\n",
              "  </thead>\n",
              "  <tbody>\n",
              "    <tr>\n",
              "      <th>0</th>\n",
              "      <td>Yes</td>\n",
              "      <td>Travel_Rarely</td>\n",
              "      <td>Sales</td>\n",
              "      <td>Life Sciences</td>\n",
              "      <td>Female</td>\n",
              "      <td>Sales Executive</td>\n",
              "      <td>Single</td>\n",
              "      <td>Y</td>\n",
              "      <td>Yes</td>\n",
              "    </tr>\n",
              "    <tr>\n",
              "      <th>1</th>\n",
              "      <td>No</td>\n",
              "      <td>Travel_Frequently</td>\n",
              "      <td>Research &amp; Development</td>\n",
              "      <td>Life Sciences</td>\n",
              "      <td>Male</td>\n",
              "      <td>Research Scientist</td>\n",
              "      <td>Married</td>\n",
              "      <td>Y</td>\n",
              "      <td>No</td>\n",
              "    </tr>\n",
              "    <tr>\n",
              "      <th>2</th>\n",
              "      <td>Yes</td>\n",
              "      <td>Travel_Rarely</td>\n",
              "      <td>Research &amp; Development</td>\n",
              "      <td>Other</td>\n",
              "      <td>Male</td>\n",
              "      <td>Laboratory Technician</td>\n",
              "      <td>Single</td>\n",
              "      <td>Y</td>\n",
              "      <td>Yes</td>\n",
              "    </tr>\n",
              "    <tr>\n",
              "      <th>3</th>\n",
              "      <td>No</td>\n",
              "      <td>Travel_Frequently</td>\n",
              "      <td>Research &amp; Development</td>\n",
              "      <td>Life Sciences</td>\n",
              "      <td>Female</td>\n",
              "      <td>Research Scientist</td>\n",
              "      <td>Married</td>\n",
              "      <td>Y</td>\n",
              "      <td>Yes</td>\n",
              "    </tr>\n",
              "    <tr>\n",
              "      <th>4</th>\n",
              "      <td>No</td>\n",
              "      <td>Travel_Rarely</td>\n",
              "      <td>Research &amp; Development</td>\n",
              "      <td>Medical</td>\n",
              "      <td>Male</td>\n",
              "      <td>Laboratory Technician</td>\n",
              "      <td>Married</td>\n",
              "      <td>Y</td>\n",
              "      <td>No</td>\n",
              "    </tr>\n",
              "  </tbody>\n",
              "</table>\n",
              "</div>\n",
              "      <button class=\"colab-df-convert\" onclick=\"convertToInteractive('df-885ba256-8549-4d3b-9a43-c5552fa03fe7')\"\n",
              "              title=\"Convert this dataframe to an interactive table.\"\n",
              "              style=\"display:none;\">\n",
              "        \n",
              "  <svg xmlns=\"http://www.w3.org/2000/svg\" height=\"24px\"viewBox=\"0 0 24 24\"\n",
              "       width=\"24px\">\n",
              "    <path d=\"M0 0h24v24H0V0z\" fill=\"none\"/>\n",
              "    <path d=\"M18.56 5.44l.94 2.06.94-2.06 2.06-.94-2.06-.94-.94-2.06-.94 2.06-2.06.94zm-11 1L8.5 8.5l.94-2.06 2.06-.94-2.06-.94L8.5 2.5l-.94 2.06-2.06.94zm10 10l.94 2.06.94-2.06 2.06-.94-2.06-.94-.94-2.06-.94 2.06-2.06.94z\"/><path d=\"M17.41 7.96l-1.37-1.37c-.4-.4-.92-.59-1.43-.59-.52 0-1.04.2-1.43.59L10.3 9.45l-7.72 7.72c-.78.78-.78 2.05 0 2.83L4 21.41c.39.39.9.59 1.41.59.51 0 1.02-.2 1.41-.59l7.78-7.78 2.81-2.81c.8-.78.8-2.07 0-2.86zM5.41 20L4 18.59l7.72-7.72 1.47 1.35L5.41 20z\"/>\n",
              "  </svg>\n",
              "      </button>\n",
              "      \n",
              "  <style>\n",
              "    .colab-df-container {\n",
              "      display:flex;\n",
              "      flex-wrap:wrap;\n",
              "      gap: 12px;\n",
              "    }\n",
              "\n",
              "    .colab-df-convert {\n",
              "      background-color: #E8F0FE;\n",
              "      border: none;\n",
              "      border-radius: 50%;\n",
              "      cursor: pointer;\n",
              "      display: none;\n",
              "      fill: #1967D2;\n",
              "      height: 32px;\n",
              "      padding: 0 0 0 0;\n",
              "      width: 32px;\n",
              "    }\n",
              "\n",
              "    .colab-df-convert:hover {\n",
              "      background-color: #E2EBFA;\n",
              "      box-shadow: 0px 1px 2px rgba(60, 64, 67, 0.3), 0px 1px 3px 1px rgba(60, 64, 67, 0.15);\n",
              "      fill: #174EA6;\n",
              "    }\n",
              "\n",
              "    [theme=dark] .colab-df-convert {\n",
              "      background-color: #3B4455;\n",
              "      fill: #D2E3FC;\n",
              "    }\n",
              "\n",
              "    [theme=dark] .colab-df-convert:hover {\n",
              "      background-color: #434B5C;\n",
              "      box-shadow: 0px 1px 3px 1px rgba(0, 0, 0, 0.15);\n",
              "      filter: drop-shadow(0px 1px 2px rgba(0, 0, 0, 0.3));\n",
              "      fill: #FFFFFF;\n",
              "    }\n",
              "  </style>\n",
              "\n",
              "      <script>\n",
              "        const buttonEl =\n",
              "          document.querySelector('#df-885ba256-8549-4d3b-9a43-c5552fa03fe7 button.colab-df-convert');\n",
              "        buttonEl.style.display =\n",
              "          google.colab.kernel.accessAllowed ? 'block' : 'none';\n",
              "\n",
              "        async function convertToInteractive(key) {\n",
              "          const element = document.querySelector('#df-885ba256-8549-4d3b-9a43-c5552fa03fe7');\n",
              "          const dataTable =\n",
              "            await google.colab.kernel.invokeFunction('convertToInteractive',\n",
              "                                                     [key], {});\n",
              "          if (!dataTable) return;\n",
              "\n",
              "          const docLinkHtml = 'Like what you see? Visit the ' +\n",
              "            '<a target=\"_blank\" href=https://colab.research.google.com/notebooks/data_table.ipynb>data table notebook</a>'\n",
              "            + ' to learn more about interactive tables.';\n",
              "          element.innerHTML = '';\n",
              "          dataTable['output_type'] = 'display_data';\n",
              "          await google.colab.output.renderOutput(dataTable, element);\n",
              "          const docLink = document.createElement('div');\n",
              "          docLink.innerHTML = docLinkHtml;\n",
              "          element.appendChild(docLink);\n",
              "        }\n",
              "      </script>\n",
              "    </div>\n",
              "  </div>\n",
              "  "
            ]
          },
          "metadata": {},
          "execution_count": 48
        }
      ]
    },
    {
      "cell_type": "markdown",
      "metadata": {
        "id": "qOWBB3jzpj8q"
      },
      "source": [
        "**EXERCISE:** Finally, fill out the following form for each data field. Consider the following definitions for each, and take your time. This is very important for doing feature engineering correctly. Think about what the significance of a data type and its representation may have on a model. **Use the information in the EDA notebook found [here]() to help you**.\n",
        "\n",
        " - **Categorical**: Often a string value. Different groups, or categories of objects (e.g. Cat, Dog, Mouse, ...)\n",
        " - **Numerically Discrete**: Countably infinite numerical values. Often integers.\n",
        " - **Numerically Continuous**: Numbers, but not countably infinite. Often float values.\n",
        " - **Boolean**: Yes or No values. Sometime represented as 1 or 0 **OR** as a two option categorial variable.\n",
        " - **Ordinal**: Categorial variables with proximal association. e.g.) small, medium, large **OR** level 1, 2, 3"
      ]
    },
    {
      "cell_type": "markdown",
      "metadata": {
        "id": "QrGJekpwpj8q"
      },
      "source": [
        "\n",
        "| Column Name | Potential Data Types |\n",
        "| :----------- | ---------------------|\n",
        "|**`Age`**$\\;\\;\\;\\;\\;\\;\\;\\;\\;\\;$   |   <input type=\"checkbox\" align = \"right\"> Categorical  $\\;\\;\\;\\;$ <input type=\"checkbox\" align = \"right\" checked> Numeric Discrete $\\;\\;\\;\\;$ <input type=\"checkbox\" align = \"right\"> Numeric Continuous $\\;\\;\\;\\;$ <input type=\"checkbox\" align = \"right\"> Boolean $\\;\\;\\;\\;$ <input type=\"checkbox\" align = \"right\"> Ordinal\n",
        "|\n",
        "|**`Attrition`**$\\;\\;\\;\\;\\;\\;\\;\\;\\;\\;$ |     <input type=\"checkbox\"> Categorical  $\\;\\;\\;\\;$ <input type=\"checkbox\"> Numeric Discrete $\\;\\;\\;\\;$ <input type=\"checkbox\"> Numeric Continuous $\\;\\;\\;\\;$ <input type=\"checkbox\" checked> Boolean $\\;\\;\\;\\;$ <input type=\"checkbox\"> Ordinal\n",
        "|\n",
        "|**`BusinessTravel`**$\\;\\;\\;\\;\\;\\;\\;\\;\\;\\;$ |     <input type=\"checkbox\" align = \"right\"> Categorical  $\\;\\;\\;\\;$ <input type=\"checkbox\" align = \"right\"> Numeric Discrete $\\;\\;\\;\\;$ <input type=\"checkbox\" align = \"right\"> Numeric Continuous $\\;\\;\\;\\;$ <input type=\"checkbox\" align = \"right\"> Boolean $\\;\\;\\;\\;$ <input type=\"checkbox\" align = \"right\" checked> Ordinal\n",
        "|\n",
        "|**`DailyRate`**$\\;\\;\\;\\;\\;\\;\\;\\;\\;\\;$   |   <input type=\"checkbox\" align = \"right\"> Categorical  $\\;\\;\\;\\;$ <input type=\"checkbox\" align = \"right\" checked> Numeric Discrete $\\;\\;\\;\\;$ <input type=\"checkbox\" align = \"right\"> Numeric Continuous $\\;\\;\\;\\;$ <input type=\"checkbox\" align = \"right\"> Boolean $\\;\\;\\;\\;$ <input type=\"checkbox\" align = \"right\"> Ordinal\n",
        "|\n",
        "|**`Department`**$\\;\\;\\;\\;\\;\\;\\;\\;\\;\\;$ |     <input type=\"checkbox\" align = \"right\" checked> Categorical  $\\;\\;\\;\\;$ <input type=\"checkbox\" align = \"right\"> Numeric Discrete $\\;\\;\\;\\;$ <input type=\"checkbox\" align = \"right\"> Numeric Continuous $\\;\\;\\;\\;$ <input type=\"checkbox\" align = \"right\"> Boolean $\\;\\;\\;\\;$ <input type=\"checkbox\" align = \"right\"> Ordinal\n",
        "|\n",
        "|**`DistanceFromHome`**$\\;\\;\\;\\;\\;\\;\\;\\;\\;\\;$   |   <input type=\"checkbox\" align = \"right\"> Categorical  $\\;\\;\\;\\;$ <input type=\"checkbox\" align = \"right\" checked> Numeric Discrete $\\;\\;\\;\\;$ <input type=\"checkbox\" align = \"right\"> Numeric Continuous $\\;\\;\\;\\;$ <input type=\"checkbox\" align = \"right\"> Boolean $\\;\\;\\;\\;$ <input type=\"checkbox\" align = \"right\"> Ordinal\n",
        "|\n",
        "|**`Education`**$\\;\\;\\;\\;\\;\\;\\;\\;\\;\\;$    |  <input type=\"checkbox\" align = \"right\"> Categorical  $\\;\\;\\;\\;$ <input type=\"checkbox\" align = \"right\"> Numeric Discrete $\\;\\;\\;\\;$ <input type=\"checkbox\" align = \"right\"> Numeric Continuous $\\;\\;\\;\\;$ <input type=\"checkbox\" align = \"right\"> Boolean $\\;\\;\\;\\;$ <input type=\"checkbox\" align = \"right\" checked> Ordinal\n",
        "|\n",
        "|**`EducationField`**$\\;\\;\\;\\;\\;\\;\\;\\;\\;\\;$  |    <input type=\"checkbox\" align = \"right\" checked> Categorical  $\\;\\;\\;\\;$ <input type=\"checkbox\" align = \"right\"> Numeric Discrete $\\;\\;\\;\\;$ <input type=\"checkbox\" align = \"right\"> Numeric Continuous $\\;\\;\\;\\;$ <input type=\"checkbox\" align = \"right\"> Boolean $\\;\\;\\;\\;$ <input type=\"checkbox\" align = \"right\"> Ordinal\n",
        "|\n",
        "|**`EmployeeCount`**$\\;\\;\\;\\;\\;\\;\\;\\;\\;\\;$   |   <input type=\"checkbox\" align = \"right\"> Categorical  $\\;\\;\\;\\;$ <input type=\"checkbox\" align = \"right\" checked> Numeric Discrete $\\;\\;\\;\\;$ <input type=\"checkbox\" align = \"right\"> Numeric Continuous $\\;\\;\\;\\;$ <input type=\"checkbox\" align = \"right\"> Boolean $\\;\\;\\;\\;$ <input type=\"checkbox\" align = \"right\"> Ordinal\n",
        "|\n",
        "|**`EmployeeNumber`**$\\;\\;\\;\\;\\;\\;\\;\\;\\;\\;$   |   <input type=\"checkbox\" align = \"right\"> Categorical  $\\;\\;\\;\\;$ <input type=\"checkbox\" align = \"right\" checked> Numeric Discrete $\\;\\;\\;\\;$ <input type=\"checkbox\" align = \"right\"> Numeric Continuous $\\;\\;\\;\\;$ <input type=\"checkbox\" align = \"right\"> Boolean $\\;\\;\\;\\;$ <input type=\"checkbox\" align = \"right\"> Ordinal\n",
        "|\n",
        "|**`EnvironmentSatisfaction`**$\\;\\;\\;\\;\\;\\;\\;\\;\\;\\;$  |    <input type=\"checkbox\" align = \"right\"> Categorical  $\\;\\;\\;\\;$ <input type=\"checkbox\" align = \"right\" checked> Numeric Discrete $\\;\\;\\;\\;$ <input type=\"checkbox\" align = \"right\"> Numeric Continuous $\\;\\;\\;\\;$ <input type=\"checkbox\" align = \"right\"> Boolean $\\;\\;\\;\\;$ <input type=\"checkbox\" align = \"right\"> Ordinal\n",
        "|\n",
        "|**`Gender`**$\\;\\;\\;\\;\\;\\;\\;\\;\\;\\;$   |   <input type=\"checkbox\" align = \"right\"> Categorical  $\\;\\;\\;\\;$ <input type=\"checkbox\" align = \"right\"> Numeric Discrete $\\;\\;\\;\\;$ <input type=\"checkbox\" align = \"right\"> Numeric Continuous $\\;\\;\\;\\;$ <input type=\"checkbox\" align = \"right\" checked> Boolean $\\;\\;\\;\\;$ <input type=\"checkbox\" align = \"right\"> Ordinal\n",
        "|\n",
        "|**`HourlyRate`**$\\;\\;\\;\\;\\;\\;\\;\\;\\;\\;$  |    <input type=\"checkbox\" align = \"right\"> Categorical  $\\;\\;\\;\\;$ <input type=\"checkbox\" align = \"right\" checked> Numeric Discrete $\\;\\;\\;\\;$ <input type=\"checkbox\" align = \"right\"> Numeric Continuous $\\;\\;\\;\\;$ <input type=\"checkbox\" align = \"right\"> Boolean $\\;\\;\\;\\;$ <input type=\"checkbox\" align = \"right\"> Ordinal\n",
        "|\n",
        "|**`JobInvolvement`**$\\;\\;\\;\\;\\;\\;\\;\\;\\;\\;$ |     <input type=\"checkbox\" align = \"right\"> Categorical  $\\;\\;\\;\\;$ <input type=\"checkbox\" align = \"right\" checked> Numeric Discrete $\\;\\;\\;\\;$ <input type=\"checkbox\" align = \"right\"> Numeric Continuous $\\;\\;\\;\\;$ <input type=\"checkbox\" align = \"right\"> Boolean $\\;\\;\\;\\;$ <input type=\"checkbox\" align = \"right\"> Ordinal\n",
        "|\n",
        "|**`JobLevel`**$\\;\\;\\;\\;\\;\\;\\;\\;\\;\\;$   |   <input type=\"checkbox\" align = \"right\"> Categorical  $\\;\\;\\;\\;$ <input type=\"checkbox\" align = \"right\"> Numeric Discrete $\\;\\;\\;\\;$ <input type=\"checkbox\" align = \"right\"> Numeric Continuous $\\;\\;\\;\\;$ <input type=\"checkbox\" align = \"right\"> Boolean $\\;\\;\\;\\;$ <input type=\"checkbox\" align = \"right\" checked> Ordinal\n",
        "|\n",
        "|**`JobRole`**$\\;\\;\\;\\;\\;\\;\\;\\;\\;\\;$  |    <input type=\"checkbox\" align = \"right\" checked> Categorical  $\\;\\;\\;\\;$ <input type=\"checkbox\" align = \"right\"> Numeric Discrete $\\;\\;\\;\\;$ <input type=\"checkbox\" align = \"right\"> Numeric Continuous $\\;\\;\\;\\;$ <input type=\"checkbox\" align = \"right\"> Boolean $\\;\\;\\;\\;$ <input type=\"checkbox\" align = \"right\"> Ordinal\n",
        "|\n",
        "|**`JobSatisfaction`**$\\;\\;\\;\\;\\;\\;\\;\\;\\;\\;$  |    <input type=\"checkbox\" align = \"right\"> Categorical  $\\;\\;\\;\\;$ <input type=\"checkbox\" align = \"right\" checked> Numeric Discrete $\\;\\;\\;\\;$ <input type=\"checkbox\" align = \"right\"> Numeric Continuous $\\;\\;\\;\\;$ <input type=\"checkbox\" align = \"right\"> Boolean $\\;\\;\\;\\;$ <input type=\"checkbox\" align = \"right\"> Ordinal\n",
        "|\n",
        "|**`MaritalStatus`**$\\;\\;\\;\\;\\;\\;\\;\\;\\;\\;$   |   <input type=\"checkbox\" align = \"right\" checked> Categorical  $\\;\\;\\;\\;$ <input type=\"checkbox\" align = \"right\"> Numeric Discrete $\\;\\;\\;\\;$ <input type=\"checkbox\" align = \"right\"> Numeric Continuous $\\;\\;\\;\\;$ <input type=\"checkbox\" align = \"right\"> Boolean $\\;\\;\\;\\;$ <input type=\"checkbox\" align = \"right\"> Ordinal\n",
        "|\n",
        "|**`MonthlyIncome`**$\\;\\;\\;\\;\\;\\;\\;\\;\\;\\;$  |    <input type=\"checkbox\" align = \"right\"> Categorical  $\\;\\;\\;\\;$ <input type=\"checkbox\" align = \"right\" checked> Numeric Discrete $\\;\\;\\;\\;$ <input type=\"checkbox\" align = \"right\"> Numeric Continuous $\\;\\;\\;\\;$ <input type=\"checkbox\" align = \"right\"> Boolean $\\;\\;\\;\\;$ <input type=\"checkbox\" align = \"right\"> Ordinal\n",
        "|\n",
        "|**`MonthlyRate`**$\\;\\;\\;\\;\\;\\;\\;\\;\\;\\;$  |    <input type=\"checkbox\" align = \"right\"> Categorical  $\\;\\;\\;\\;$ <input type=\"checkbox\" align = \"right\" checked> Numeric Discrete $\\;\\;\\;\\;$ <input type=\"checkbox\" align = \"right\"> Numeric Continuous $\\;\\;\\;\\;$ <input type=\"checkbox\" align = \"right\"> Boolean $\\;\\;\\;\\;$ <input type=\"checkbox\" align = \"right\"> Ordinal\n",
        "|\n",
        "|**`NumCompaniesWorked`**$\\;\\;\\;\\;\\;\\;\\;\\;\\;\\;$  |    <input type=\"checkbox\" align = \"right\"> Categorical  $\\;\\;\\;\\;$ <input type=\"checkbox\" align = \"right\" checked> Numeric Discrete $\\;\\;\\;\\;$ <input type=\"checkbox\" align = \"right\"> Numeric Continuous $\\;\\;\\;\\;$ <input type=\"checkbox\" align = \"right\"> Boolean $\\;\\;\\;\\;$ <input type=\"checkbox\" align = \"right\"> Ordinal\n",
        "|\n",
        "|**`Over18`**$\\;\\;\\;\\;\\;\\;\\;\\;\\;\\;$ |     <input type=\"checkbox\" align = \"right\"> Categorical  $\\;\\;\\;\\;$ <input type=\"checkbox\" align = \"right\"> Numeric Discrete $\\;\\;\\;\\;$ <input type=\"checkbox\" align = \"right\"> Numeric Continuous $\\;\\;\\;\\;$ <input type=\"checkbox\" align = \"right\" checked> Boolean $\\;\\;\\;\\;$ <input type=\"checkbox\" align = \"right\"> Ordinal\n",
        "|\n",
        "|**`OverTime`**$\\;\\;\\;\\;\\;\\;\\;\\;\\;\\;$    |  <input type=\"checkbox\" align = \"right\"> Categorical  $\\;\\;\\;\\;$ <input type=\"checkbox\" align = \"right\"> Numeric Discrete $\\;\\;\\;\\;$ <input type=\"checkbox\" align = \"right\"> Numeric Continuous $\\;\\;\\;\\;$ <input type=\"checkbox\" align = \"right\" checked> Boolean $\\;\\;\\;\\;$ <input type=\"checkbox\" align = \"right\"> Ordinal\n",
        "|\n",
        "|**`PercentSalaryHike`**$\\;\\;\\;\\;\\;\\;\\;\\;\\;\\;$   |   <input type=\"checkbox\" align = \"right\"> Categorical  $\\;\\;\\;\\;$ <input type=\"checkbox\" align = \"right\" checked> Numeric Discrete $\\;\\;\\;\\;$ <input type=\"checkbox\" align = \"right\"> Numeric Continuous $\\;\\;\\;\\;$ <input type=\"checkbox\" align = \"right\"> Boolean $\\;\\;\\;\\;$ <input type=\"checkbox\" align = \"right\"> Ordinal\n",
        "|\n",
        "|**`PerformanceRating`**$\\;\\;\\;\\;\\;\\;\\;\\;\\;\\;$  |    <input type=\"checkbox\" align = \"right\"> Categorical  $\\;\\;\\;\\;$ <input type=\"checkbox\" align = \"right\" checked> Numeric Discrete $\\;\\;\\;\\;$ <input type=\"checkbox\" align = \"right\"> Numeric Continuous $\\;\\;\\;\\;$ <input type=\"checkbox\" align = \"right\"> Boolean $\\;\\;\\;\\;$ <input type=\"checkbox\" align = \"right\"> Ordinal\n",
        "|\n",
        "|**`RelationshipSatisfaction`**$\\;\\;\\;\\;\\;\\;\\;\\;\\;\\;$  |    <input type=\"checkbox\" align = \"right\"> Categorical  $\\;\\;\\;\\;$ <input type=\"checkbox\" align = \"right\" checked> Numeric Discrete $\\;\\;\\;\\;$ <input type=\"checkbox\" align = \"right\"> Numeric Continuous $\\;\\;\\;\\;$ <input type=\"checkbox\" align = \"right\"> Boolean $\\;\\;\\;\\;$ <input type=\"checkbox\" align = \"right\"> Ordinal\n",
        "|\n",
        "|**`StandardHours`**$\\;\\;\\;\\;\\;\\;\\;\\;\\;\\;$    |  <input type=\"checkbox\" align = \"right\"> Categorical  $\\;\\;\\;\\;$ <input type=\"checkbox\" align = \"right\" checked> Numeric Discrete $\\;\\;\\;\\;$ <input type=\"checkbox\" align = \"right\"> Numeric Continuous $\\;\\;\\;\\;$ <input type=\"checkbox\" align = \"right\"> Boolean $\\;\\;\\;\\;$ <input type=\"checkbox\" align = \"right\"> Ordinal\n",
        "|\n",
        "|**`StockOptionLevel`**$\\;\\;\\;\\;\\;\\;\\;\\;\\;\\;$  |    <input type=\"checkbox\" align = \"right\"> Categorical  $\\;\\;\\;\\;$ <input type=\"checkbox\" align = \"right\"> Numeric Discrete $\\;\\;\\;\\;$ <input type=\"checkbox\" align = \"right\"> Numeric Continuous $\\;\\;\\;\\;$ <input type=\"checkbox\" align = \"right\"> Boolean $\\;\\;\\;\\;$ <input type=\"checkbox\" align = \"right\" checked> Ordinal\n",
        "|\n",
        "|**`TotalWorkingYears`**$\\;\\;\\;\\;\\;\\;\\;\\;\\;\\;$  |    <input type=\"checkbox\" align = \"right\"> Categorical  $\\;\\;\\;\\;$ <input type=\"checkbox\" align = \"right\" checked> Numeric Discrete $\\;\\;\\;\\;$ <input type=\"checkbox\" align = \"right\"> Numeric Continuous $\\;\\;\\;\\;$ <input type=\"checkbox\" align = \"right\"> Boolean $\\;\\;\\;\\;$ <input type=\"checkbox\" align = \"right\"> Ordinal\n",
        "|\n",
        "|**`TrainingTimesLastYear`**$\\;\\;\\;\\;\\;\\;\\;\\;\\;\\;$  |    <input type=\"checkbox\" align = \"right\"> Categorical  $\\;\\;\\;\\;$ <input type=\"checkbox\" align = \"right\" checked> Numeric Discrete $\\;\\;\\;\\;$ <input type=\"checkbox\" align = \"right\"> Numeric Continuous $\\;\\;\\;\\;$ <input type=\"checkbox\" align = \"right\"> Boolean $\\;\\;\\;\\;$ <input type=\"checkbox\" align = \"right\"> Ordinal\n",
        "|\n",
        "|**`WorkLifeBalance`**$\\;\\;\\;\\;\\;\\;\\;\\;\\;\\;$   |   <input type=\"checkbox\" align = \"right\"> Categorical  $\\;\\;\\;\\;$ <input type=\"checkbox\" align = \"right\" checked> Numeric Discrete $\\;\\;\\;\\;$ <input type=\"checkbox\" align = \"right\"> Numeric Continuous $\\;\\;\\;\\;$ <input type=\"checkbox\" align = \"right\"> Boolean $\\;\\;\\;\\;$ <input type=\"checkbox\" align = \"right\"> Ordinal\n",
        "|\n",
        "|**`YearsAtCompany`**$\\;\\;\\;\\;\\;\\;\\;\\;\\;\\;$  |    <input type=\"checkbox\" align = \"right\"> Categorical  $\\;\\;\\;\\;$ <input type=\"checkbox\" align = \"right\" checked> Numeric Discrete $\\;\\;\\;\\;$ <input type=\"checkbox\" align = \"right\"> Numeric Continuous $\\;\\;\\;\\;$ <input type=\"checkbox\" align = \"right\"> Boolean $\\;\\;\\;\\;$ <input type=\"checkbox\" align = \"right\"> Ordinal\n",
        "|\n",
        "|**`YearsInCurrentRole`**$\\;\\;\\;\\;\\;\\;\\;\\;\\;\\;$   |   <input type=\"checkbox\" align = \"right\"> Categorical  $\\;\\;\\;\\;$ <input type=\"checkbox\" align = \"right\" checked> Numeric Discrete $\\;\\;\\;\\;$ <input type=\"checkbox\" align = \"right\"> Numeric Continuous $\\;\\;\\;\\;$ <input type=\"checkbox\" align = \"right\"> Boolean $\\;\\;\\;\\;$ <input type=\"checkbox\" align = \"right\"> Ordinal\n",
        "|\n",
        "|**`YearsSinceLastPromotion`**   $\\;\\;\\;\\;\\;\\;\\;\\;\\;\\;$  |    <input type=\"checkbox\" align = \"right\"> Categorical  $\\;\\;\\;\\;$ <input type=\"checkbox\" align = \"right\" checked> Numeric Discrete $\\;\\;\\;\\;$ <input type=\"checkbox\" align = \"right\"> Numeric Continuous $\\;\\;\\;\\;$ <input type=\"checkbox\" align = \"right\"> Boolean $\\;\\;\\;\\;$ <input type=\"checkbox\" align = \"right\"> Ordinal\n",
        "|  \n",
        "|**`YearsWithCurrManager`**  $\\;\\;\\;\\;\\;\\;\\;\\;\\;\\;$   |   <input type=\"checkbox\" align = \"right\"> Categorical  $\\;\\;\\;\\;$ <input type=\"checkbox\" align = \"right\" checked> Numeric Discrete $\\;\\;\\;\\;$ <input type=\"checkbox\" align = \"right\"> Numeric Continuous $\\;\\;\\;\\;$ <input type=\"checkbox\" align = \"right\"> Boolean $\\;\\;\\;\\;$ <input type=\"checkbox\" align = \"right\"> Ordinal\n",
        "|      "
      ]
    },
    {
      "cell_type": "markdown",
      "metadata": {
        "id": "m4pbxaqspj8y"
      },
      "source": [
        "## 4. Feature Engineering\n",
        "\n",
        "Now that we have a good grasp for the data and its data types, we need to do the following to prepare for modeling.\n",
        "\n",
        "    1.) Determine what fields make sense to include for modeling. (What could reasonably impact attrition?)\n",
        "    2.) How should different data types be transformed to be conducive for modeling?\n",
        "    3.) Write the code necessary for creating a modeling dataset."
      ]
    },
    {
      "cell_type": "markdown",
      "metadata": {
        "id": "guBkJDU6pj84"
      },
      "source": [
        "### 4.a. Variable Selection\n",
        "\n",
        "We want to include everything that could even have the slightest impact on attrition, but leave out the remaining fields.\n",
        "\n",
        "**EXERCISE**: List the fields that you should remove and write a small description outlining your logic.\n",
        "\n",
        "LIST OF FIELDS TO REMOVE:\n",
        "\n",
        "- **EmployeeNumber** -- This is just an employee's identification number and has nothing to do with attrition\n",
        "- **HourlyRate** -- Monthly rate is already provided, which documents the same thing (could drop Monthly instead)\n",
        "- **DailyRate** -- Monthly rate is already provided, which documents the same thing (could drop Monthly instead)\n",
        "        \n",
        "        \n",
        "**EXERCISE**: With your data to drop now defined, drop the columns while keeping the data in variable `df`. (**HINT**: There are three columns to drop)"
      ]
    },
    {
      "cell_type": "code",
      "metadata": {
        "id": "EadD1TVxpj84"
      },
      "source": [
        "#WRITE CODE HERE TO DROP COLUMNS\n",
        "df.drop([\"EmployeeNumber\", \"HourlyRate\", \"DailyRate\"], axis = 1, inplace = True)"
      ],
      "execution_count": null,
      "outputs": []
    },
    {
      "cell_type": "markdown",
      "metadata": {
        "id": "tJReku5Epj84"
      },
      "source": [
        "### 4.b. Handling Categorical Data\n",
        "\n",
        "Categorical data is almost always represented with string data types. Mathematical models do not know how to process strings so as data scientists we must alias them and create dummy variables.\n",
        "\n",
        "**EXERCISE**: The function below is intended to create dummy variables of each categorical variable in the dataset, then combine all of the information into a single dataframe called `categorical_df`. Edit the line of the function that says `WRITE DUMMY...` to finish the logic. Then, create a list of the categorical variables that need to be converted, and execute the function to convert them. Name the output variable `categorical_df`."
      ]
    },
    {
      "cell_type": "code",
      "metadata": {
        "id": "yR-5H-nlpj85"
      },
      "source": [
        "#Provided categorical dataframe function\n",
        "def create_categorical_df(data, column_names):\n",
        "\n",
        "    #Initialize categorical dataframe\n",
        "    categorical_df = None\n",
        "\n",
        "    #Iterate through column names\n",
        "    for categorical_column in column_names:\n",
        "\n",
        "        #----WRITE DUMMY VARIABLE FUNCTION HERE----\n",
        "        categorical_dummies = pd.get_dummies(data[categorical_column])\n",
        "\n",
        "        #Extra logic to add data to existing dataframe\n",
        "        if categorical_df is None:\n",
        "            categorical_df = categorical_dummies\n",
        "\n",
        "        else:\n",
        "            categorical_df = pd.concat([categorical_df, categorical_dummies], axis =1)\n",
        "\n",
        "    #Return categorical data\n",
        "    return categorical_df"
      ],
      "execution_count": null,
      "outputs": []
    },
    {
      "cell_type": "code",
      "metadata": {
        "id": "unSALy3qpj85"
      },
      "source": [
        "#MAKE LIST OF CATEGORICAL COLUMN NAMES HERE\n",
        "categorical_names = ['Department', 'EducationField', 'JobRole', \"MaritalStatus\"]\n",
        "\n",
        "#EXECUTE FUNCTION HERE TO MAKE CATEGORICAL DF\n",
        "categorical_df = create_categorical_df(df, categorical_names)"
      ],
      "execution_count": null,
      "outputs": []
    },
    {
      "cell_type": "markdown",
      "metadata": {
        "id": "I7aYWSAipj85"
      },
      "source": [
        "**EXERCISE**: Verify you were successful by printing the head of the categorical dataset"
      ]
    },
    {
      "cell_type": "code",
      "metadata": {
        "id": "nFg_8VCEpj85",
        "outputId": "969c4308-4c07-4f2e-e282-f78cbc1fc8c6",
        "colab": {
          "base_uri": "https://localhost:8080/",
          "height": 317
        }
      },
      "source": [
        "#WRITE CODE HERE TO VIEW HEAD OF CATEGORICAL DF\n",
        "categorical_df.head()"
      ],
      "execution_count": null,
      "outputs": [
        {
          "output_type": "execute_result",
          "data": {
            "text/plain": [
              "   Human Resources  Research & Development  Sales  Human Resources  \\\n",
              "0                0                       0      1                0   \n",
              "1                0                       1      0                0   \n",
              "2                0                       1      0                0   \n",
              "3                0                       1      0                0   \n",
              "4                0                       1      0                0   \n",
              "\n",
              "   Life Sciences  Marketing  Medical  Other  Technical Degree  \\\n",
              "0              1          0        0      0                 0   \n",
              "1              1          0        0      0                 0   \n",
              "2              0          0        0      1                 0   \n",
              "3              1          0        0      0                 0   \n",
              "4              0          0        1      0                 0   \n",
              "\n",
              "   Healthcare Representative  ...  Laboratory Technician  Manager  \\\n",
              "0                          0  ...                      0        0   \n",
              "1                          0  ...                      0        0   \n",
              "2                          0  ...                      1        0   \n",
              "3                          0  ...                      0        0   \n",
              "4                          0  ...                      1        0   \n",
              "\n",
              "   Manufacturing Director  Research Director  Research Scientist  \\\n",
              "0                       0                  0                   0   \n",
              "1                       0                  0                   1   \n",
              "2                       0                  0                   0   \n",
              "3                       0                  0                   1   \n",
              "4                       0                  0                   0   \n",
              "\n",
              "   Sales Executive  Sales Representative  Divorced  Married  Single  \n",
              "0                1                     0         0        0       1  \n",
              "1                0                     0         0        1       0  \n",
              "2                0                     0         0        0       1  \n",
              "3                0                     0         0        1       0  \n",
              "4                0                     0         0        1       0  \n",
              "\n",
              "[5 rows x 21 columns]"
            ],
            "text/html": [
              "\n",
              "  <div id=\"df-9e7cbbf1-e6f2-428a-8763-04dee47b0edf\">\n",
              "    <div class=\"colab-df-container\">\n",
              "      <div>\n",
              "<style scoped>\n",
              "    .dataframe tbody tr th:only-of-type {\n",
              "        vertical-align: middle;\n",
              "    }\n",
              "\n",
              "    .dataframe tbody tr th {\n",
              "        vertical-align: top;\n",
              "    }\n",
              "\n",
              "    .dataframe thead th {\n",
              "        text-align: right;\n",
              "    }\n",
              "</style>\n",
              "<table border=\"1\" class=\"dataframe\">\n",
              "  <thead>\n",
              "    <tr style=\"text-align: right;\">\n",
              "      <th></th>\n",
              "      <th>Human Resources</th>\n",
              "      <th>Research &amp; Development</th>\n",
              "      <th>Sales</th>\n",
              "      <th>Human Resources</th>\n",
              "      <th>Life Sciences</th>\n",
              "      <th>Marketing</th>\n",
              "      <th>Medical</th>\n",
              "      <th>Other</th>\n",
              "      <th>Technical Degree</th>\n",
              "      <th>Healthcare Representative</th>\n",
              "      <th>...</th>\n",
              "      <th>Laboratory Technician</th>\n",
              "      <th>Manager</th>\n",
              "      <th>Manufacturing Director</th>\n",
              "      <th>Research Director</th>\n",
              "      <th>Research Scientist</th>\n",
              "      <th>Sales Executive</th>\n",
              "      <th>Sales Representative</th>\n",
              "      <th>Divorced</th>\n",
              "      <th>Married</th>\n",
              "      <th>Single</th>\n",
              "    </tr>\n",
              "  </thead>\n",
              "  <tbody>\n",
              "    <tr>\n",
              "      <th>0</th>\n",
              "      <td>0</td>\n",
              "      <td>0</td>\n",
              "      <td>1</td>\n",
              "      <td>0</td>\n",
              "      <td>1</td>\n",
              "      <td>0</td>\n",
              "      <td>0</td>\n",
              "      <td>0</td>\n",
              "      <td>0</td>\n",
              "      <td>0</td>\n",
              "      <td>...</td>\n",
              "      <td>0</td>\n",
              "      <td>0</td>\n",
              "      <td>0</td>\n",
              "      <td>0</td>\n",
              "      <td>0</td>\n",
              "      <td>1</td>\n",
              "      <td>0</td>\n",
              "      <td>0</td>\n",
              "      <td>0</td>\n",
              "      <td>1</td>\n",
              "    </tr>\n",
              "    <tr>\n",
              "      <th>1</th>\n",
              "      <td>0</td>\n",
              "      <td>1</td>\n",
              "      <td>0</td>\n",
              "      <td>0</td>\n",
              "      <td>1</td>\n",
              "      <td>0</td>\n",
              "      <td>0</td>\n",
              "      <td>0</td>\n",
              "      <td>0</td>\n",
              "      <td>0</td>\n",
              "      <td>...</td>\n",
              "      <td>0</td>\n",
              "      <td>0</td>\n",
              "      <td>0</td>\n",
              "      <td>0</td>\n",
              "      <td>1</td>\n",
              "      <td>0</td>\n",
              "      <td>0</td>\n",
              "      <td>0</td>\n",
              "      <td>1</td>\n",
              "      <td>0</td>\n",
              "    </tr>\n",
              "    <tr>\n",
              "      <th>2</th>\n",
              "      <td>0</td>\n",
              "      <td>1</td>\n",
              "      <td>0</td>\n",
              "      <td>0</td>\n",
              "      <td>0</td>\n",
              "      <td>0</td>\n",
              "      <td>0</td>\n",
              "      <td>1</td>\n",
              "      <td>0</td>\n",
              "      <td>0</td>\n",
              "      <td>...</td>\n",
              "      <td>1</td>\n",
              "      <td>0</td>\n",
              "      <td>0</td>\n",
              "      <td>0</td>\n",
              "      <td>0</td>\n",
              "      <td>0</td>\n",
              "      <td>0</td>\n",
              "      <td>0</td>\n",
              "      <td>0</td>\n",
              "      <td>1</td>\n",
              "    </tr>\n",
              "    <tr>\n",
              "      <th>3</th>\n",
              "      <td>0</td>\n",
              "      <td>1</td>\n",
              "      <td>0</td>\n",
              "      <td>0</td>\n",
              "      <td>1</td>\n",
              "      <td>0</td>\n",
              "      <td>0</td>\n",
              "      <td>0</td>\n",
              "      <td>0</td>\n",
              "      <td>0</td>\n",
              "      <td>...</td>\n",
              "      <td>0</td>\n",
              "      <td>0</td>\n",
              "      <td>0</td>\n",
              "      <td>0</td>\n",
              "      <td>1</td>\n",
              "      <td>0</td>\n",
              "      <td>0</td>\n",
              "      <td>0</td>\n",
              "      <td>1</td>\n",
              "      <td>0</td>\n",
              "    </tr>\n",
              "    <tr>\n",
              "      <th>4</th>\n",
              "      <td>0</td>\n",
              "      <td>1</td>\n",
              "      <td>0</td>\n",
              "      <td>0</td>\n",
              "      <td>0</td>\n",
              "      <td>0</td>\n",
              "      <td>1</td>\n",
              "      <td>0</td>\n",
              "      <td>0</td>\n",
              "      <td>0</td>\n",
              "      <td>...</td>\n",
              "      <td>1</td>\n",
              "      <td>0</td>\n",
              "      <td>0</td>\n",
              "      <td>0</td>\n",
              "      <td>0</td>\n",
              "      <td>0</td>\n",
              "      <td>0</td>\n",
              "      <td>0</td>\n",
              "      <td>1</td>\n",
              "      <td>0</td>\n",
              "    </tr>\n",
              "  </tbody>\n",
              "</table>\n",
              "<p>5 rows × 21 columns</p>\n",
              "</div>\n",
              "      <button class=\"colab-df-convert\" onclick=\"convertToInteractive('df-9e7cbbf1-e6f2-428a-8763-04dee47b0edf')\"\n",
              "              title=\"Convert this dataframe to an interactive table.\"\n",
              "              style=\"display:none;\">\n",
              "        \n",
              "  <svg xmlns=\"http://www.w3.org/2000/svg\" height=\"24px\"viewBox=\"0 0 24 24\"\n",
              "       width=\"24px\">\n",
              "    <path d=\"M0 0h24v24H0V0z\" fill=\"none\"/>\n",
              "    <path d=\"M18.56 5.44l.94 2.06.94-2.06 2.06-.94-2.06-.94-.94-2.06-.94 2.06-2.06.94zm-11 1L8.5 8.5l.94-2.06 2.06-.94-2.06-.94L8.5 2.5l-.94 2.06-2.06.94zm10 10l.94 2.06.94-2.06 2.06-.94-2.06-.94-.94-2.06-.94 2.06-2.06.94z\"/><path d=\"M17.41 7.96l-1.37-1.37c-.4-.4-.92-.59-1.43-.59-.52 0-1.04.2-1.43.59L10.3 9.45l-7.72 7.72c-.78.78-.78 2.05 0 2.83L4 21.41c.39.39.9.59 1.41.59.51 0 1.02-.2 1.41-.59l7.78-7.78 2.81-2.81c.8-.78.8-2.07 0-2.86zM5.41 20L4 18.59l7.72-7.72 1.47 1.35L5.41 20z\"/>\n",
              "  </svg>\n",
              "      </button>\n",
              "      \n",
              "  <style>\n",
              "    .colab-df-container {\n",
              "      display:flex;\n",
              "      flex-wrap:wrap;\n",
              "      gap: 12px;\n",
              "    }\n",
              "\n",
              "    .colab-df-convert {\n",
              "      background-color: #E8F0FE;\n",
              "      border: none;\n",
              "      border-radius: 50%;\n",
              "      cursor: pointer;\n",
              "      display: none;\n",
              "      fill: #1967D2;\n",
              "      height: 32px;\n",
              "      padding: 0 0 0 0;\n",
              "      width: 32px;\n",
              "    }\n",
              "\n",
              "    .colab-df-convert:hover {\n",
              "      background-color: #E2EBFA;\n",
              "      box-shadow: 0px 1px 2px rgba(60, 64, 67, 0.3), 0px 1px 3px 1px rgba(60, 64, 67, 0.15);\n",
              "      fill: #174EA6;\n",
              "    }\n",
              "\n",
              "    [theme=dark] .colab-df-convert {\n",
              "      background-color: #3B4455;\n",
              "      fill: #D2E3FC;\n",
              "    }\n",
              "\n",
              "    [theme=dark] .colab-df-convert:hover {\n",
              "      background-color: #434B5C;\n",
              "      box-shadow: 0px 1px 3px 1px rgba(0, 0, 0, 0.15);\n",
              "      filter: drop-shadow(0px 1px 2px rgba(0, 0, 0, 0.3));\n",
              "      fill: #FFFFFF;\n",
              "    }\n",
              "  </style>\n",
              "\n",
              "      <script>\n",
              "        const buttonEl =\n",
              "          document.querySelector('#df-9e7cbbf1-e6f2-428a-8763-04dee47b0edf button.colab-df-convert');\n",
              "        buttonEl.style.display =\n",
              "          google.colab.kernel.accessAllowed ? 'block' : 'none';\n",
              "\n",
              "        async function convertToInteractive(key) {\n",
              "          const element = document.querySelector('#df-9e7cbbf1-e6f2-428a-8763-04dee47b0edf');\n",
              "          const dataTable =\n",
              "            await google.colab.kernel.invokeFunction('convertToInteractive',\n",
              "                                                     [key], {});\n",
              "          if (!dataTable) return;\n",
              "\n",
              "          const docLinkHtml = 'Like what you see? Visit the ' +\n",
              "            '<a target=\"_blank\" href=https://colab.research.google.com/notebooks/data_table.ipynb>data table notebook</a>'\n",
              "            + ' to learn more about interactive tables.';\n",
              "          element.innerHTML = '';\n",
              "          dataTable['output_type'] = 'display_data';\n",
              "          await google.colab.output.renderOutput(dataTable, element);\n",
              "          const docLink = document.createElement('div');\n",
              "          docLink.innerHTML = docLinkHtml;\n",
              "          element.appendChild(docLink);\n",
              "        }\n",
              "      </script>\n",
              "    </div>\n",
              "  </div>\n",
              "  "
            ]
          },
          "metadata": {},
          "execution_count": 52
        }
      ]
    },
    {
      "cell_type": "markdown",
      "metadata": {
        "id": "XeMGnlNvpj86"
      },
      "source": [
        "### 4.c. Handling Ordinal Data\n",
        "\n",
        "Similar to categorical data, ordinal data is also often a string value. However, we do not need to make dummies of this data since there is a measure of proximity. We only need to alias the data but also ensure that **the logical order of the data is maintained**.\n",
        "\n",
        "**EXERCISE**: The function below converts ordinal data into a model friendly format. Create a list of all ordinal data types to be converted, then create the function call and save the output at ordinal_df. (HINT: There are a total of **Four** columns, but **ONLY ONE** needs to be preprocessed. Put only the one that needs to be preprocessed in the `ordinal_df` list below. We will add the rest later."
      ]
    },
    {
      "cell_type": "code",
      "metadata": {
        "id": "IQt7rsRYpj86"
      },
      "source": [
        "#provided ordinal dataframe function\n",
        "def create_ordinal_df(data, ordinal_names, ordinal_dict):\n",
        "\n",
        "    ordinal_df = data.loc[:,ordinal_names]\n",
        "\n",
        "    for name in ordinal_names:\n",
        "        ordinal_df[name] = ordinal_df[name].map(ordinal_dict)\n",
        "\n",
        "    return ordinal_df\n",
        "\n",
        "#Provided function to view ordinality\n",
        "def view_ordinality(data, ordinal_names):\n",
        "    for name in ordinal_names:\n",
        "        print(data[name].drop_duplicates())\n",
        "        print()"
      ],
      "execution_count": null,
      "outputs": []
    },
    {
      "cell_type": "code",
      "metadata": {
        "id": "iV3EeFyZpj87"
      },
      "source": [
        "#MAKE LIST OF ORDINAL COLUMN NAMES HERE\n",
        "ordinal_names = ['BusinessTravel']"
      ],
      "execution_count": null,
      "outputs": []
    },
    {
      "cell_type": "markdown",
      "metadata": {
        "id": "Cxuu7aMUpj87"
      },
      "source": [
        "**EXERCISE**: View the ordinality of the appropriate column name, and make the corresponding dictionary (e.g. 0 = low, 1 = medium, 2 = high)."
      ]
    },
    {
      "cell_type": "code",
      "metadata": {
        "id": "mbOpogyJpj87",
        "outputId": "853f22d2-77a7-4d1b-fede-20a7ac0ed80c",
        "colab": {
          "base_uri": "https://localhost:8080/"
        }
      },
      "source": [
        "#VIEW ORDINALITY OF ORDINAL COLUMNS\n",
        "view_ordinality(df, ordinal_names)"
      ],
      "execution_count": null,
      "outputs": [
        {
          "output_type": "stream",
          "name": "stdout",
          "text": [
            "0         Travel_Rarely\n",
            "1     Travel_Frequently\n",
            "17           Non-Travel\n",
            "Name: BusinessTravel, dtype: object\n",
            "\n"
          ]
        }
      ]
    },
    {
      "cell_type": "code",
      "metadata": {
        "id": "rd1TDZiQpj88"
      },
      "source": [
        "#MAKE ORDINAL DICTIONARY\n",
        "ordinal_dict = {\"Non-Travel\" :0, \"Travel_Rarely\":1, \"Travel_Frequently\": 2}"
      ],
      "execution_count": null,
      "outputs": []
    },
    {
      "cell_type": "code",
      "metadata": {
        "id": "1SoDw3OApj89"
      },
      "source": [
        "#MAKE FUNCTION CALL HERE TO CREATE ORDINAL DATAFRAME\n",
        "ordinal_df = create_ordinal_df(df, ordinal_names, ordinal_dict)"
      ],
      "execution_count": null,
      "outputs": []
    },
    {
      "cell_type": "markdown",
      "metadata": {
        "id": "IUoNIZtWpj8-"
      },
      "source": [
        "Finally, let's add back all of the ordinal columns that did not need any alteration. These include Education, StockOptionLevel, and JobLevel."
      ]
    },
    {
      "cell_type": "code",
      "metadata": {
        "id": "Tp_FL3Azpj8-"
      },
      "source": [
        "#Data is added back for you.\n",
        "ordinal_df = pd.concat([ordinal_df, df.loc[:, [\"Education\", \"StockOptionLevel\", \"JobLevel\"]]], axis = 1)"
      ],
      "execution_count": null,
      "outputs": []
    },
    {
      "cell_type": "markdown",
      "metadata": {
        "id": "ntnX_v5xpj8_"
      },
      "source": [
        "**EXERCISE**: Verify you were successful by checking the data types of the ordinal_df. They should be integers."
      ]
    },
    {
      "cell_type": "code",
      "metadata": {
        "id": "3y2PBkW1pj8_",
        "outputId": "03e0e39e-490b-4da8-e632-75bcef17e384",
        "colab": {
          "base_uri": "https://localhost:8080/"
        }
      },
      "source": [
        "#VIEW DATA TYPES OF ORDINAL DF HERE\n",
        "ordinal_df.dtypes"
      ],
      "execution_count": null,
      "outputs": [
        {
          "output_type": "execute_result",
          "data": {
            "text/plain": [
              "BusinessTravel      int64\n",
              "Education           int64\n",
              "StockOptionLevel    int64\n",
              "JobLevel            int64\n",
              "dtype: object"
            ]
          },
          "metadata": {},
          "execution_count": 59
        }
      ]
    },
    {
      "cell_type": "markdown",
      "metadata": {
        "id": "j5Vy_ubCpj9A"
      },
      "source": [
        "### 4.d. Handling Boolean Data\n",
        "\n",
        "Boolean data is also often in string format. This conversion is trickier because you need to determine what represents **YES** and **NO** for each column. For attrition, this is self-explanatory (1 = attrition, 0 = not). For columns like gender, pick either gender as the **YES** gender. Ultimately it will not impact the modeling.\n",
        "\n",
        "**EXERCISE**: Determine the variables that are boolean and put them in a list called `boolean_names`. Use the function `visualize_booleans` to determine YES / NO values, by following the steps below. Then convert the values using the provided function `convert_boolean_df`."
      ]
    },
    {
      "cell_type": "code",
      "metadata": {
        "id": "bjodul2hpj9A"
      },
      "source": [
        "# CREATE A LIST OF BOOLEAN COLUMNS\n",
        "boolean_names = ['Attrition', 'Gender', 'Over18', 'OverTime']"
      ],
      "execution_count": null,
      "outputs": []
    },
    {
      "cell_type": "code",
      "metadata": {
        "id": "29Y0s0GHpj9A"
      },
      "source": [
        "# Visualize the unique names found in each column name by running the function\n",
        "def visualize_booleans(data, boolean_names,):\n",
        "    for name in boolean_names:\n",
        "        print(data[name].drop_duplicates())\n",
        "        print()\n"
      ],
      "execution_count": null,
      "outputs": []
    },
    {
      "cell_type": "code",
      "metadata": {
        "id": "ZjVcwpEUpj9A",
        "outputId": "9bfb7c2c-709a-42fc-a49c-386b5d43e54c",
        "colab": {
          "base_uri": "https://localhost:8080/"
        }
      },
      "source": [
        "#CALL THE VISUALIZE BOOLEANS FUNCTION HERE\n",
        "visualize_booleans(df, boolean_names)"
      ],
      "execution_count": null,
      "outputs": [
        {
          "output_type": "stream",
          "name": "stdout",
          "text": [
            "0    Yes\n",
            "1     No\n",
            "Name: Attrition, dtype: object\n",
            "\n",
            "0    Female\n",
            "1      Male\n",
            "Name: Gender, dtype: object\n",
            "\n",
            "0    Y\n",
            "Name: Over18, dtype: object\n",
            "\n",
            "0    Yes\n",
            "1     No\n",
            "Name: OverTime, dtype: object\n",
            "\n"
          ]
        }
      ]
    },
    {
      "cell_type": "markdown",
      "metadata": {
        "id": "QXYDOKyMpj9B"
      },
      "source": [
        "**EXERCISE**: It looks like we have another column that does not provide us with any unique data and is not actually boolean. Figure out which column that is, and drop it."
      ]
    },
    {
      "cell_type": "code",
      "metadata": {
        "id": "Og8M8K2Fpj9B"
      },
      "source": [
        "# WRITE CODE HERE TO DROP COLUMN\n",
        "df.drop(['Over18'], axis = 1, inplace = True)"
      ],
      "execution_count": null,
      "outputs": []
    },
    {
      "cell_type": "code",
      "metadata": {
        "id": "L2CL5XKtpj9B"
      },
      "source": [
        "#REMOVE REDUNDANT COLUMN FROM boolean_names LIST\n",
        "boolean_names.remove('Over18')"
      ],
      "execution_count": null,
      "outputs": []
    },
    {
      "cell_type": "markdown",
      "metadata": {
        "id": "cdwmy2Vqpj9B"
      },
      "source": [
        "**EXERCISE**: Finally, create a list of lists in the format shown below, and feed it into the provided function to conver boolean values."
      ]
    },
    {
      "cell_type": "code",
      "metadata": {
        "id": "V11WguJZpj9C"
      },
      "source": [
        "def convert_boolean_df(data, boolean_names_and_values):\n",
        "    for name_value in boolean_names_and_values:\n",
        "        data[name_value[0]] = data[name_value[0]].map({name_value[1]: 1,\n",
        "                                                       name_value[2]: 0})\n"
      ],
      "execution_count": null,
      "outputs": []
    },
    {
      "cell_type": "code",
      "metadata": {
        "id": "_Tp6u1T_pj9C"
      },
      "source": [
        "# CREATE A LIST OF LISTS ALL BOOLEAN COLUMNS\n",
        "# Each list has the order: [COLUMN_NAME, YES_VALUE, NO_VALUE]\n",
        "boolean_names_and_values =  [[\"Attrition\", \"Yes\", \"No\"],\n",
        "                             [\"Gender\", \"Male\", \"Female\"],\n",
        "                             [\"OverTime\", \"Yes\", \"No\"]]\n"
      ],
      "execution_count": null,
      "outputs": []
    },
    {
      "cell_type": "code",
      "metadata": {
        "id": "VKihBTAcpj9C"
      },
      "source": [
        "#CALL FUNCTION TO CONVERT BOOLEAN DF HERE\n",
        "convert_boolean_df(df, boolean_names_and_values)"
      ],
      "execution_count": null,
      "outputs": []
    },
    {
      "cell_type": "markdown",
      "metadata": {
        "id": "YmFginWtpj9C"
      },
      "source": [
        "**EXERCISE**: Verify you were successful by running `visualize_booleans` again and comparing the results."
      ]
    },
    {
      "cell_type": "code",
      "metadata": {
        "id": "Z6HyTzgopj9C",
        "outputId": "23489e20-bbeb-4d28-f5e0-093aeebe92fe",
        "colab": {
          "base_uri": "https://localhost:8080/"
        }
      },
      "source": [
        "#VISUALIZE BOOLEAN OUTPUT HERE USING visualize_booleans FUNCTION\n",
        "visualize_booleans(df, boolean_names)"
      ],
      "execution_count": null,
      "outputs": [
        {
          "output_type": "stream",
          "name": "stdout",
          "text": [
            "0    1\n",
            "1    0\n",
            "Name: Attrition, dtype: int64\n",
            "\n",
            "0    0\n",
            "1    1\n",
            "Name: Gender, dtype: int64\n",
            "\n",
            "0    1\n",
            "1    0\n",
            "Name: OverTime, dtype: int64\n",
            "\n"
          ]
        }
      ]
    },
    {
      "cell_type": "markdown",
      "metadata": {
        "id": "waRrynEdpj9D"
      },
      "source": [
        "### 4.e. Normalizing Numerical Data\n",
        "\n",
        "We are almost ready for modeling! The last thing to do is convert our numerical data into something with more context. When we look at something like income for modeling, the actual value means nothing. What **DOES** matter is _how different that value is from other data observations_.\n",
        "\n",
        "Therefore, many data scientists standardize numerical data by fitting it to a normal distribution and storing the _z-score_ rather than the actual values.\n",
        "\n",
        "**EXERCISE**: Create a list of all the columns that need to be normalized (there are many!) and call it `normalized_names`. Then call the function that will normalize them and save them all to `normalized_df`."
      ]
    },
    {
      "cell_type": "code",
      "metadata": {
        "id": "FDeZixMSpj9D"
      },
      "source": [
        "from sklearn.preprocessing import StandardScaler\n",
        "\n",
        "def normalize_values(data, column_names):\n",
        "    normalized_df = StandardScaler().fit_transform(data.loc[:,\n",
        "                                                            column_names])\n",
        "\n",
        "    return pd.DataFrame(normalized_df, columns = column_names)\n"
      ],
      "execution_count": null,
      "outputs": []
    },
    {
      "cell_type": "code",
      "metadata": {
        "id": "mQTd3khJpj9D"
      },
      "source": [
        "#WRITE NORMALIZED COLUMN NAMES LIST HERE\n",
        "normalized_names = ['Age', 'DistanceFromHome', 'EmployeeCount', \"EnvironmentSatisfaction\",\n",
        "                    'JobInvolvement', 'JobSatisfaction', \"MonthlyIncome\", \"MonthlyRate\",\n",
        "                    'NumCompaniesWorked', 'PercentSalaryHike', \"PerformanceRating\",\n",
        "                    'RelationshipSatisfaction', 'StandardHours', 'TotalWorkingYears',\n",
        "                    'TrainingTimesLastYear', 'WorkLifeBalance', 'YearsAtCompany',\n",
        "                    'YearsInCurrentRole', 'YearsSinceLastPromotion',\n",
        "                    'YearsWithCurrManager']\n"
      ],
      "execution_count": null,
      "outputs": []
    },
    {
      "cell_type": "code",
      "metadata": {
        "id": "GYT0DqKVpj9E"
      },
      "source": [
        "#CALL normalize_values FUNCTION HERE\n",
        "normalized_df = normalize_values(df, normalized_names)"
      ],
      "execution_count": null,
      "outputs": []
    },
    {
      "cell_type": "markdown",
      "metadata": {
        "id": "2EQjshW6pj9E"
      },
      "source": [
        "**EXERCISE**: Verify you were successful by viewing the head of the normalized_df"
      ]
    },
    {
      "cell_type": "code",
      "metadata": {
        "id": "0siUmn4npj9E",
        "outputId": "1cc8d435-743c-4066-efcb-47428ff88c08",
        "colab": {
          "base_uri": "https://localhost:8080/",
          "height": 270
        }
      },
      "source": [
        "#VIEW HEAD OF NORMALIZED DF HERE\n",
        "normalized_df.head()"
      ],
      "execution_count": null,
      "outputs": [
        {
          "output_type": "execute_result",
          "data": {
            "text/plain": [
              "        Age  DistanceFromHome  EmployeeCount  EnvironmentSatisfaction  \\\n",
              "0  0.446350         -1.010909            0.0                -0.660531   \n",
              "1  1.322365         -0.147150            0.0                 0.254625   \n",
              "2  0.008343         -0.887515            0.0                 1.169781   \n",
              "3 -0.429664         -0.764121            0.0                 1.169781   \n",
              "4 -1.086676         -0.887515            0.0                -1.575686   \n",
              "\n",
              "   JobInvolvement  JobSatisfaction  MonthlyIncome  MonthlyRate  \\\n",
              "0        0.379672         1.153254      -0.108350     0.726020   \n",
              "1       -1.026167        -0.660853      -0.291719     1.488876   \n",
              "2       -1.026167         0.246200      -0.937654    -1.674841   \n",
              "3        0.379672         0.246200      -0.763634     1.243211   \n",
              "4        0.379672        -0.660853      -0.644858     0.325900   \n",
              "\n",
              "   NumCompaniesWorked  PercentSalaryHike  PerformanceRating  \\\n",
              "0            2.125136          -1.150554          -0.426230   \n",
              "1           -0.678049           2.129306           2.346151   \n",
              "2            1.324226          -0.057267          -0.426230   \n",
              "3           -0.678049          -1.150554          -0.426230   \n",
              "4            2.525591          -0.877232          -0.426230   \n",
              "\n",
              "   RelationshipSatisfaction  StandardHours  TotalWorkingYears  \\\n",
              "0                 -1.584178            0.0          -0.421642   \n",
              "1                  1.191438            0.0          -0.164511   \n",
              "2                 -0.658973            0.0          -0.550208   \n",
              "3                  0.266233            0.0          -0.421642   \n",
              "4                  1.191438            0.0          -0.678774   \n",
              "\n",
              "   TrainingTimesLastYear  WorkLifeBalance  YearsAtCompany  YearsInCurrentRole  \\\n",
              "0              -2.171982        -2.493820       -0.164613           -0.063296   \n",
              "1               0.155707         0.338096        0.488508            0.764998   \n",
              "2               0.155707         0.338096       -1.144294           -1.167687   \n",
              "3               0.155707         0.338096        0.161947            0.764998   \n",
              "4               0.155707         0.338096       -0.817734           -0.615492   \n",
              "\n",
              "   YearsSinceLastPromotion  YearsWithCurrManager  \n",
              "0                -0.679146              0.245834  \n",
              "1                -0.368715              0.806541  \n",
              "2                -0.679146             -1.155935  \n",
              "3                 0.252146             -1.155935  \n",
              "4                -0.058285             -0.595227  "
            ],
            "text/html": [
              "\n",
              "  <div id=\"df-e1089046-4d32-4fb3-95d5-bedafe60c425\">\n",
              "    <div class=\"colab-df-container\">\n",
              "      <div>\n",
              "<style scoped>\n",
              "    .dataframe tbody tr th:only-of-type {\n",
              "        vertical-align: middle;\n",
              "    }\n",
              "\n",
              "    .dataframe tbody tr th {\n",
              "        vertical-align: top;\n",
              "    }\n",
              "\n",
              "    .dataframe thead th {\n",
              "        text-align: right;\n",
              "    }\n",
              "</style>\n",
              "<table border=\"1\" class=\"dataframe\">\n",
              "  <thead>\n",
              "    <tr style=\"text-align: right;\">\n",
              "      <th></th>\n",
              "      <th>Age</th>\n",
              "      <th>DistanceFromHome</th>\n",
              "      <th>EmployeeCount</th>\n",
              "      <th>EnvironmentSatisfaction</th>\n",
              "      <th>JobInvolvement</th>\n",
              "      <th>JobSatisfaction</th>\n",
              "      <th>MonthlyIncome</th>\n",
              "      <th>MonthlyRate</th>\n",
              "      <th>NumCompaniesWorked</th>\n",
              "      <th>PercentSalaryHike</th>\n",
              "      <th>PerformanceRating</th>\n",
              "      <th>RelationshipSatisfaction</th>\n",
              "      <th>StandardHours</th>\n",
              "      <th>TotalWorkingYears</th>\n",
              "      <th>TrainingTimesLastYear</th>\n",
              "      <th>WorkLifeBalance</th>\n",
              "      <th>YearsAtCompany</th>\n",
              "      <th>YearsInCurrentRole</th>\n",
              "      <th>YearsSinceLastPromotion</th>\n",
              "      <th>YearsWithCurrManager</th>\n",
              "    </tr>\n",
              "  </thead>\n",
              "  <tbody>\n",
              "    <tr>\n",
              "      <th>0</th>\n",
              "      <td>0.446350</td>\n",
              "      <td>-1.010909</td>\n",
              "      <td>0.0</td>\n",
              "      <td>-0.660531</td>\n",
              "      <td>0.379672</td>\n",
              "      <td>1.153254</td>\n",
              "      <td>-0.108350</td>\n",
              "      <td>0.726020</td>\n",
              "      <td>2.125136</td>\n",
              "      <td>-1.150554</td>\n",
              "      <td>-0.426230</td>\n",
              "      <td>-1.584178</td>\n",
              "      <td>0.0</td>\n",
              "      <td>-0.421642</td>\n",
              "      <td>-2.171982</td>\n",
              "      <td>-2.493820</td>\n",
              "      <td>-0.164613</td>\n",
              "      <td>-0.063296</td>\n",
              "      <td>-0.679146</td>\n",
              "      <td>0.245834</td>\n",
              "    </tr>\n",
              "    <tr>\n",
              "      <th>1</th>\n",
              "      <td>1.322365</td>\n",
              "      <td>-0.147150</td>\n",
              "      <td>0.0</td>\n",
              "      <td>0.254625</td>\n",
              "      <td>-1.026167</td>\n",
              "      <td>-0.660853</td>\n",
              "      <td>-0.291719</td>\n",
              "      <td>1.488876</td>\n",
              "      <td>-0.678049</td>\n",
              "      <td>2.129306</td>\n",
              "      <td>2.346151</td>\n",
              "      <td>1.191438</td>\n",
              "      <td>0.0</td>\n",
              "      <td>-0.164511</td>\n",
              "      <td>0.155707</td>\n",
              "      <td>0.338096</td>\n",
              "      <td>0.488508</td>\n",
              "      <td>0.764998</td>\n",
              "      <td>-0.368715</td>\n",
              "      <td>0.806541</td>\n",
              "    </tr>\n",
              "    <tr>\n",
              "      <th>2</th>\n",
              "      <td>0.008343</td>\n",
              "      <td>-0.887515</td>\n",
              "      <td>0.0</td>\n",
              "      <td>1.169781</td>\n",
              "      <td>-1.026167</td>\n",
              "      <td>0.246200</td>\n",
              "      <td>-0.937654</td>\n",
              "      <td>-1.674841</td>\n",
              "      <td>1.324226</td>\n",
              "      <td>-0.057267</td>\n",
              "      <td>-0.426230</td>\n",
              "      <td>-0.658973</td>\n",
              "      <td>0.0</td>\n",
              "      <td>-0.550208</td>\n",
              "      <td>0.155707</td>\n",
              "      <td>0.338096</td>\n",
              "      <td>-1.144294</td>\n",
              "      <td>-1.167687</td>\n",
              "      <td>-0.679146</td>\n",
              "      <td>-1.155935</td>\n",
              "    </tr>\n",
              "    <tr>\n",
              "      <th>3</th>\n",
              "      <td>-0.429664</td>\n",
              "      <td>-0.764121</td>\n",
              "      <td>0.0</td>\n",
              "      <td>1.169781</td>\n",
              "      <td>0.379672</td>\n",
              "      <td>0.246200</td>\n",
              "      <td>-0.763634</td>\n",
              "      <td>1.243211</td>\n",
              "      <td>-0.678049</td>\n",
              "      <td>-1.150554</td>\n",
              "      <td>-0.426230</td>\n",
              "      <td>0.266233</td>\n",
              "      <td>0.0</td>\n",
              "      <td>-0.421642</td>\n",
              "      <td>0.155707</td>\n",
              "      <td>0.338096</td>\n",
              "      <td>0.161947</td>\n",
              "      <td>0.764998</td>\n",
              "      <td>0.252146</td>\n",
              "      <td>-1.155935</td>\n",
              "    </tr>\n",
              "    <tr>\n",
              "      <th>4</th>\n",
              "      <td>-1.086676</td>\n",
              "      <td>-0.887515</td>\n",
              "      <td>0.0</td>\n",
              "      <td>-1.575686</td>\n",
              "      <td>0.379672</td>\n",
              "      <td>-0.660853</td>\n",
              "      <td>-0.644858</td>\n",
              "      <td>0.325900</td>\n",
              "      <td>2.525591</td>\n",
              "      <td>-0.877232</td>\n",
              "      <td>-0.426230</td>\n",
              "      <td>1.191438</td>\n",
              "      <td>0.0</td>\n",
              "      <td>-0.678774</td>\n",
              "      <td>0.155707</td>\n",
              "      <td>0.338096</td>\n",
              "      <td>-0.817734</td>\n",
              "      <td>-0.615492</td>\n",
              "      <td>-0.058285</td>\n",
              "      <td>-0.595227</td>\n",
              "    </tr>\n",
              "  </tbody>\n",
              "</table>\n",
              "</div>\n",
              "      <button class=\"colab-df-convert\" onclick=\"convertToInteractive('df-e1089046-4d32-4fb3-95d5-bedafe60c425')\"\n",
              "              title=\"Convert this dataframe to an interactive table.\"\n",
              "              style=\"display:none;\">\n",
              "        \n",
              "  <svg xmlns=\"http://www.w3.org/2000/svg\" height=\"24px\"viewBox=\"0 0 24 24\"\n",
              "       width=\"24px\">\n",
              "    <path d=\"M0 0h24v24H0V0z\" fill=\"none\"/>\n",
              "    <path d=\"M18.56 5.44l.94 2.06.94-2.06 2.06-.94-2.06-.94-.94-2.06-.94 2.06-2.06.94zm-11 1L8.5 8.5l.94-2.06 2.06-.94-2.06-.94L8.5 2.5l-.94 2.06-2.06.94zm10 10l.94 2.06.94-2.06 2.06-.94-2.06-.94-.94-2.06-.94 2.06-2.06.94z\"/><path d=\"M17.41 7.96l-1.37-1.37c-.4-.4-.92-.59-1.43-.59-.52 0-1.04.2-1.43.59L10.3 9.45l-7.72 7.72c-.78.78-.78 2.05 0 2.83L4 21.41c.39.39.9.59 1.41.59.51 0 1.02-.2 1.41-.59l7.78-7.78 2.81-2.81c.8-.78.8-2.07 0-2.86zM5.41 20L4 18.59l7.72-7.72 1.47 1.35L5.41 20z\"/>\n",
              "  </svg>\n",
              "      </button>\n",
              "      \n",
              "  <style>\n",
              "    .colab-df-container {\n",
              "      display:flex;\n",
              "      flex-wrap:wrap;\n",
              "      gap: 12px;\n",
              "    }\n",
              "\n",
              "    .colab-df-convert {\n",
              "      background-color: #E8F0FE;\n",
              "      border: none;\n",
              "      border-radius: 50%;\n",
              "      cursor: pointer;\n",
              "      display: none;\n",
              "      fill: #1967D2;\n",
              "      height: 32px;\n",
              "      padding: 0 0 0 0;\n",
              "      width: 32px;\n",
              "    }\n",
              "\n",
              "    .colab-df-convert:hover {\n",
              "      background-color: #E2EBFA;\n",
              "      box-shadow: 0px 1px 2px rgba(60, 64, 67, 0.3), 0px 1px 3px 1px rgba(60, 64, 67, 0.15);\n",
              "      fill: #174EA6;\n",
              "    }\n",
              "\n",
              "    [theme=dark] .colab-df-convert {\n",
              "      background-color: #3B4455;\n",
              "      fill: #D2E3FC;\n",
              "    }\n",
              "\n",
              "    [theme=dark] .colab-df-convert:hover {\n",
              "      background-color: #434B5C;\n",
              "      box-shadow: 0px 1px 3px 1px rgba(0, 0, 0, 0.15);\n",
              "      filter: drop-shadow(0px 1px 2px rgba(0, 0, 0, 0.3));\n",
              "      fill: #FFFFFF;\n",
              "    }\n",
              "  </style>\n",
              "\n",
              "      <script>\n",
              "        const buttonEl =\n",
              "          document.querySelector('#df-e1089046-4d32-4fb3-95d5-bedafe60c425 button.colab-df-convert');\n",
              "        buttonEl.style.display =\n",
              "          google.colab.kernel.accessAllowed ? 'block' : 'none';\n",
              "\n",
              "        async function convertToInteractive(key) {\n",
              "          const element = document.querySelector('#df-e1089046-4d32-4fb3-95d5-bedafe60c425');\n",
              "          const dataTable =\n",
              "            await google.colab.kernel.invokeFunction('convertToInteractive',\n",
              "                                                     [key], {});\n",
              "          if (!dataTable) return;\n",
              "\n",
              "          const docLinkHtml = 'Like what you see? Visit the ' +\n",
              "            '<a target=\"_blank\" href=https://colab.research.google.com/notebooks/data_table.ipynb>data table notebook</a>'\n",
              "            + ' to learn more about interactive tables.';\n",
              "          element.innerHTML = '';\n",
              "          dataTable['output_type'] = 'display_data';\n",
              "          await google.colab.output.renderOutput(dataTable, element);\n",
              "          const docLink = document.createElement('div');\n",
              "          docLink.innerHTML = docLinkHtml;\n",
              "          element.appendChild(docLink);\n",
              "        }\n",
              "      </script>\n",
              "    </div>\n",
              "  </div>\n",
              "  "
            ]
          },
          "metadata": {},
          "execution_count": 72
        }
      ]
    },
    {
      "cell_type": "markdown",
      "metadata": {
        "id": "EVLPvQVUpj9E"
      },
      "source": [
        "### 4.f. Finalizing the Modeling Dataset\n",
        "\n",
        "Finally, we are ready to combine everything together into a modeling dataset. The dataset df is refined for you below to trim out all values that we have changed.\n",
        "\n",
        "**EXERCISE**: Using all of the previously created dataframes, including `boolean_df`,`normalized_df`,`ordinal_df`, and `categorical_df`, combine all of the data into a single flat dataset."
      ]
    },
    {
      "cell_type": "code",
      "metadata": {
        "id": "n28DnqPupj9F"
      },
      "source": [
        "# Editing df to only include preprocessed columns\n",
        "boolean_df = df.loc[:,boolean_names]"
      ],
      "execution_count": null,
      "outputs": []
    },
    {
      "cell_type": "code",
      "metadata": {
        "id": "2ZxqL59upj9F"
      },
      "source": [
        "#COMBINE ALL DATA TOGETHER HERE (including boolean_df)\n",
        "df = pd.concat([boolean_df, categorical_df, normalized_df, ordinal_df], axis = 1)"
      ],
      "execution_count": null,
      "outputs": []
    },
    {
      "cell_type": "markdown",
      "metadata": {
        "id": "hfTg0MRkpj9F"
      },
      "source": [
        "**EXERCISE**: Verify that you combined the data correctly by checking the shape of `df`. You should have 1470 rows and 48 columns"
      ]
    },
    {
      "cell_type": "code",
      "metadata": {
        "id": "zocpJl6bpj9F",
        "outputId": "5a17e2bc-d2a8-44fd-d492-b7d93b3b8749",
        "colab": {
          "base_uri": "https://localhost:8080/"
        }
      },
      "source": [
        "#VIEW SHAPE OF DF HERE\n",
        "df.shape"
      ],
      "execution_count": null,
      "outputs": [
        {
          "output_type": "execute_result",
          "data": {
            "text/plain": [
              "(1470, 48)"
            ]
          },
          "metadata": {},
          "execution_count": 75
        }
      ]
    },
    {
      "cell_type": "markdown",
      "metadata": {
        "id": "4PlyJLU2pj9G"
      },
      "source": [
        "## 5. Model Training and Evaluation\n",
        "\n",
        "Finally, we are ready to start modeling. In this section we will compare the performance of three fairly basic Machine Learning algorithms and see how well they can predict attrition.\n",
        "\n",
        "The three models are listed below, and will be implemented using Scikit-Learn, one of the most popular ML packages in Python:\n",
        "\n",
        "    1.) Gaussian Naive Bayes (GNB)\n",
        "    2.) Logistic Regression (LOG)\n",
        "    3.) Random Forest (RF)\n",
        "\n",
        "Additionally, we will look at the results from a clustering algorithm. For this excercise, we will use K-Means Clustering (KMC)\n",
        "    \n",
        "Here is a quick blurb on how each of these ML algorithms work.\n",
        "   \n",
        "  \n",
        "- **GNB**\n",
        "    \n",
        "Probabilistically examines the mean characteristics of the stereotypical attrition and non-attrition individual. Assuming feature independence (naivete), the unknown person is classified based on the stereotype in which they are characteristically most similar.\n",
        "  \n",
        "- **LOG**\n",
        "\n",
        "Regression system that classifies individuals by determining an optimal separation boundary between individuals that were characterized by attrition and those that were not.\n",
        "\n",
        "- **RF**\n",
        "\n",
        "During training, this model creates a set of decision trees. For a given input, the model outputs whatever is selected by the greatest number of decision trees.\n",
        "\n",
        "\n",
        "- **KMC**\n",
        "\n",
        "K-Means Clustering, unlike the machine learning models, does not directly label an input. Instead, it groups the inputs into a number of clusters, *k*, based on similarity. This is not to be confused with K-Nearest Neighbors, which instead takes a set of *labelled data* and learns to classify inputs."
      ]
    },
    {
      "cell_type": "markdown",
      "metadata": {
        "id": "vtaYYSx-pj9G"
      },
      "source": [
        "### 5.a. Importing Models\n",
        "\n",
        "For convenience, the models have been imported below"
      ]
    },
    {
      "cell_type": "code",
      "metadata": {
        "id": "QKmkgVybpj9G"
      },
      "source": [
        "# GNB\n",
        "from sklearn.naive_bayes import GaussianNB\n",
        "\n",
        "# LOG\n",
        "from sklearn.linear_model import LogisticRegression\n",
        "\n",
        "# RF\n",
        "from sklearn.ensemble import RandomForestClassifier\n",
        "\n",
        "#KMC\n",
        "from sklearn.cluster import KMeans"
      ],
      "execution_count": null,
      "outputs": []
    },
    {
      "cell_type": "markdown",
      "metadata": {
        "id": "y8bbC1Jcpj9J"
      },
      "source": [
        "Before we can do anything with these models, we need to instantiate them.\n",
        "\n",
        "**EXERCISE**: Instantiate all three models below, setting them to the names of their abbreviations (this is simple, do not overthink this).\n",
        "\n",
        "There will be a separate section for the unsupervised K-Means Clustering."
      ]
    },
    {
      "cell_type": "code",
      "metadata": {
        "id": "iGdKE8PZpj9J"
      },
      "source": [
        "# GNB\n",
        "GNB = GaussianNB()\n",
        "\n",
        "# LOG\n",
        "LOG = LogisticRegression()\n",
        "\n",
        "# RF\n",
        "RF = RandomForestClassifier()"
      ],
      "execution_count": null,
      "outputs": []
    },
    {
      "cell_type": "markdown",
      "metadata": {
        "id": "BQOieIuIpj9K"
      },
      "source": [
        "### 5.b. Split the data into train and test slices\n",
        "\n",
        "To evaluate models in an unbiased way, we have to set some data aside that the model will not see during training. This process is called train test split.\n",
        "\n",
        "**EXERCISE**: The train test split function is provided to you below. Split the input and target (**target = Attrition**) data into slices. Set the output variables to be X_train, X_test, y_train, and y_test **in that order**. Make the split on 25% of the data."
      ]
    },
    {
      "cell_type": "code",
      "metadata": {
        "id": "QpPwHEyspj9K"
      },
      "source": [
        "from sklearn.model_selection import train_test_split"
      ],
      "execution_count": null,
      "outputs": []
    },
    {
      "cell_type": "code",
      "metadata": {
        "id": "rqmDW5fipj9K",
        "colab": {
          "base_uri": "https://localhost:8080/",
          "height": 221
        },
        "outputId": "fbf3a938-0555-4bb2-9fbb-7df3ca0165db"
      },
      "source": [
        "#WRITE CODE HERE (Tricky! See if you can specify ALL columns but attrition.)\n",
        "X_train, X_test, y_train, y_test = train_test_split(df.loc[:, df.columns != \"Attrition\"],\n",
        "                                                    df.loc[:, \"Attrition\"],\n",
        "                                                    test_size = 0.25)"
      ],
      "execution_count": 2,
      "outputs": [
        {
          "output_type": "error",
          "ename": "NameError",
          "evalue": "ignored",
          "traceback": [
            "\u001b[0;31m---------------------------------------------------------------------------\u001b[0m",
            "\u001b[0;31mNameError\u001b[0m                                 Traceback (most recent call last)",
            "\u001b[0;32m<ipython-input-2-baf88f57a6de>\u001b[0m in \u001b[0;36m<cell line: 2>\u001b[0;34m()\u001b[0m\n\u001b[1;32m      1\u001b[0m \u001b[0;31m#WRITE CODE HERE (Tricky! See if you can specify ALL columns but attrition.)\u001b[0m\u001b[0;34m\u001b[0m\u001b[0;34m\u001b[0m\u001b[0m\n\u001b[0;32m----> 2\u001b[0;31m X_train, X_test, y_train, y_test = train_test_split(df.loc[:, df.columns != \"Attrition\"], \n\u001b[0m\u001b[1;32m      3\u001b[0m                                                     \u001b[0mdf\u001b[0m\u001b[0;34m.\u001b[0m\u001b[0mloc\u001b[0m\u001b[0;34m[\u001b[0m\u001b[0;34m:\u001b[0m\u001b[0;34m,\u001b[0m \u001b[0;34m\"Attrition\"\u001b[0m\u001b[0;34m]\u001b[0m\u001b[0;34m,\u001b[0m\u001b[0;34m\u001b[0m\u001b[0;34m\u001b[0m\u001b[0m\n\u001b[1;32m      4\u001b[0m                                                     test_size = 0.25)\n",
            "\u001b[0;31mNameError\u001b[0m: name 'train_test_split' is not defined"
          ]
        }
      ]
    },
    {
      "cell_type": "markdown",
      "metadata": {
        "id": "IBF34ReVpj9K"
      },
      "source": [
        "### 5.c. Train all of the models\n",
        "\n",
        "Now we are ready to train the models! In order to train the models, you must call `.fit` on each model. Be sure to only give the model the training data! e.g.) model.fit(train_x_values, train_y_values)\n",
        "\n",
        "**EXERCISE**: Call `.fit` for all of the instantiated models."
      ]
    },
    {
      "cell_type": "code",
      "metadata": {
        "id": "JZoRsK0tpj9L",
        "colab": {
          "base_uri": "https://localhost:8080/"
        },
        "outputId": "152865e7-c601-4e07-9b5e-aa895199b783"
      },
      "source": [
        "# GNB\n",
        "GNB.fit(X_train, y_train)\n",
        "\n",
        "# LOG\n",
        "LOG.fit(X_train, y_train)\n",
        "\n",
        "# RF\n",
        "RF.fit(X_train, y_train)"
      ],
      "execution_count": null,
      "outputs": [
        {
          "output_type": "execute_result",
          "data": {
            "text/plain": [
              "RandomForestClassifier()"
            ]
          },
          "metadata": {},
          "execution_count": 80
        }
      ]
    },
    {
      "cell_type": "markdown",
      "metadata": {
        "id": "qir_Hc_0pj9L"
      },
      "source": [
        "### 5.d. Make prediction for all of the models\n",
        "\n",
        "Now we can use our trained models to predict. You can do so by providing **ONLY THE TRAINING DATA** to the trained model and calling `.predict`. e.g.) model.predict(test_x_values)\n",
        "\n",
        "**EXERCISE**: Call `.predict` for all of the instantiated models. Save all output as \"<MODEL_NAME>_preds\". e.g.) KNN_preds."
      ]
    },
    {
      "cell_type": "code",
      "metadata": {
        "id": "zTLYQb9spj9L"
      },
      "source": [
        "# GNB\n",
        "GNB_preds = GNB.predict(X_test)\n",
        "\n",
        "# LOG\n",
        "LOG_preds = LOG.predict(X_test)\n",
        "\n",
        "# RF\n",
        "RF_preds = RF.predict(X_test)"
      ],
      "execution_count": null,
      "outputs": []
    },
    {
      "cell_type": "markdown",
      "metadata": {
        "id": "X2cn2HsYpj9M"
      },
      "source": [
        "### 5.e. Evaluate performance for all models\n",
        "\n",
        "**EXERCISE**: Now that we have predictions, use the function provided below to determine which model is best! See the function's inputs for what you need to provide (**HINT**: which of the `train_test_split` slices includes the actual classes for the test data?)"
      ]
    },
    {
      "cell_type": "code",
      "metadata": {
        "id": "9aoOC0NEpj9M"
      },
      "source": [
        "from sklearn.metrics import classification_report\n",
        "\n",
        "def get_performance(model_name, actual_results, predictions):\n",
        "    print(model_name + \"\\n\" +\n",
        "          classification_report(actual_results,\n",
        "                                predictions))\n",
        "    print(\"\\n================================================================================\\n\")"
      ],
      "execution_count": null,
      "outputs": []
    },
    {
      "cell_type": "code",
      "metadata": {
        "id": "gMFesjqepj9M",
        "outputId": "740dfd54-2c04-4649-d867-9ca16ccf4b62",
        "colab": {
          "base_uri": "https://localhost:8080/"
        }
      },
      "source": [
        "#GNB PERFORMANCE\n",
        "get_performance(\"GNB\", y_test, GNB_preds)\n",
        "\n",
        "#LOG PERFORMANCE\n",
        "get_performance(\"LOG\", y_test, LOG_preds)\n",
        "\n",
        "#RF PERFORMANCE\n",
        "get_performance(\"RF\", y_test, RF_preds)"
      ],
      "execution_count": null,
      "outputs": [
        {
          "output_type": "stream",
          "name": "stdout",
          "text": [
            "GNB\n",
            "              precision    recall  f1-score   support\n",
            "\n",
            "           0       0.93      0.65      0.77       305\n",
            "           1       0.32      0.78      0.45        63\n",
            "\n",
            "    accuracy                           0.67       368\n",
            "   macro avg       0.63      0.72      0.61       368\n",
            "weighted avg       0.83      0.67      0.71       368\n",
            "\n",
            "\n",
            "================================================================================\n",
            "\n",
            "LOG\n",
            "              precision    recall  f1-score   support\n",
            "\n",
            "           0       0.89      0.98      0.93       305\n",
            "           1       0.84      0.41      0.55        63\n",
            "\n",
            "    accuracy                           0.89       368\n",
            "   macro avg       0.86      0.70      0.74       368\n",
            "weighted avg       0.88      0.89      0.87       368\n",
            "\n",
            "\n",
            "================================================================================\n",
            "\n",
            "RF\n",
            "              precision    recall  f1-score   support\n",
            "\n",
            "           0       0.85      1.00      0.92       305\n",
            "           1       0.89      0.13      0.22        63\n",
            "\n",
            "    accuracy                           0.85       368\n",
            "   macro avg       0.87      0.56      0.57       368\n",
            "weighted avg       0.85      0.85      0.80       368\n",
            "\n",
            "\n",
            "================================================================================\n",
            "\n"
          ]
        }
      ]
    },
    {
      "cell_type": "markdown",
      "metadata": {
        "id": "xBBrjFuUpj9M"
      },
      "source": [
        "**EXERCISE**: Which model was the best?\n",
        "    \n",
        "<input type=\"checkbox\" align = \"right\"> GNB  $\\;\\;\\;\\;$ <input type=\"checkbox\" align = \"right\" checked> LOG $\\;\\;\\;\\;$ <input type=\"checkbox\" align = \"right\"> RF\n",
        "\n"
      ]
    },
    {
      "cell_type": "markdown",
      "source": [
        "### 5.f Unsupervised Learning"
      ],
      "metadata": {
        "id": "vJKfe6v_-s6o"
      }
    },
    {
      "cell_type": "markdown",
      "source": [
        "K-Means Clustering is an *unsupervised learning* technique. This means that we will not split up the data into testing and training sets, but rather we will use this algorithm to breakdown our total population into two groups. Then, we can look at how their characteristics diverge.\n",
        "\n",
        "Selection of the correct number of clusters is done using the \"elbow test\". Feel free to learn more on your own, but we have provided the number of clusters you need to use for this exercise. Additionally, we will use a random_state of 20 for reproducibility."
      ],
      "metadata": {
        "id": "cAoebKLcxpbB"
      }
    },
    {
      "cell_type": "markdown",
      "source": [
        "**EXERCISE:** Create a copy of our dataset and assign it to the variable *df_KMC*. Drop Attrition from our *df_KMC*. Typically, we would also need to scale our dataset, but we already did that to run our previous models."
      ],
      "metadata": {
        "id": "sHmWX_HYzXcp"
      }
    },
    {
      "cell_type": "code",
      "source": [
        "df_KMC = df.copy()\n",
        "df_KMC = df_KMC.drop('Attrition', axis = 1)"
      ],
      "metadata": {
        "id": "Uu96-Hv-zPwa"
      },
      "execution_count": null,
      "outputs": []
    },
    {
      "cell_type": "markdown",
      "source": [
        "**EXERCISE:** We need to first initialize our KMC model and fit it to *df_KMC*. Then save our KMC model's *centroids* and *assignments* to variables of the same name."
      ],
      "metadata": {
        "id": "MiRBcLLtybTT"
      }
    },
    {
      "cell_type": "code",
      "source": [
        "KMC = KMeans(n_clusters = 2, random_state = 20).fit(df_KMC)\n",
        "centroids = KMC.cluster_centers_\n",
        "assignments = KMC.labels_"
      ],
      "metadata": {
        "id": "SyiyXxmzyrPB"
      },
      "execution_count": null,
      "outputs": []
    },
    {
      "cell_type": "markdown",
      "source": [
        "**EXERCISE:** Add a column labeled Cluster with the KMC assignments. Also create a pivot table on the new Cluster column."
      ],
      "metadata": {
        "id": "F1Ze8Y-k3bte"
      }
    },
    {
      "cell_type": "code",
      "source": [
        "df['Cluster'] = assignments\n",
        "pivot = df.pivot_table(index='Cluster', aggfunc=np.mean)"
      ],
      "metadata": {
        "id": "t6zF_Ppd00Xl"
      },
      "execution_count": null,
      "outputs": []
    },
    {
      "cell_type": "markdown",
      "source": [
        "The below function creates a new calculated column named '% of Attrition' on each cluster"
      ],
      "metadata": {
        "id": "KheY7h7S3623"
      }
    },
    {
      "cell_type": "code",
      "source": [
        "def calc_percent_attrition(df, pivot):\n",
        "  counter0=0\n",
        "  counter1=0\n",
        "  percentages=[]\n",
        "  for i in range(0,df['Cluster'].size):\n",
        "      if(df['Cluster'][i] == 0):\n",
        "          counter0+=1\n",
        "      if(df['Cluster'][i] == 1):\n",
        "          counter1+=1\n",
        "  percentages.append(counter0/df['Cluster'].size)\n",
        "  percentages.append(counter1/df['Cluster'].size)\n",
        "  for i in range(len(percentages)):\n",
        "      pivot.loc[i, '% of Attrition'] = percentages[i]*100\n",
        "  return df, pivot\n",
        "\n"
      ],
      "metadata": {
        "id": "84yyvVAh1NZS"
      },
      "execution_count": null,
      "outputs": []
    },
    {
      "cell_type": "markdown",
      "source": [
        "**EXERCISE: ** Run the *calc_percent_attrition* function on the original dataframe and pivot table"
      ],
      "metadata": {
        "id": "zEya0hWxCSxy"
      }
    },
    {
      "cell_type": "code",
      "source": [
        "#RUN calc_percent_attrition\n",
        "df, pivot = calc_percent_attrition(df, pivot)"
      ],
      "metadata": {
        "id": "leGj4JWIBYIB"
      },
      "execution_count": null,
      "outputs": []
    },
    {
      "cell_type": "markdown",
      "source": [
        "**EXERCISE:** Show the pivot table. What significant differences do you see between the clusters?"
      ],
      "metadata": {
        "id": "UFbu-Bj34Vn9"
      }
    },
    {
      "cell_type": "code",
      "source": [
        "#RETURN THE PIVOT TABLE\n",
        "pivot.T"
      ],
      "metadata": {
        "id": "APSgIfNn1boq",
        "outputId": "acb130ce-7069-4637-f388-5bc1ec262c53",
        "colab": {
          "base_uri": "https://localhost:8080/",
          "height": 1000
        }
      },
      "execution_count": null,
      "outputs": [
        {
          "output_type": "execute_result",
          "data": {
            "text/plain": [
              "Cluster                            0          1\n",
              "Age                         0.661554  -0.302256\n",
              "Attrition                   0.099783   0.189296\n",
              "BusinessTravel              1.080260   1.089197\n",
              "DistanceFromHome           -0.001539   0.000703\n",
              "Divorced                    0.232104   0.218038\n",
              "Education                   3.071584   2.840436\n",
              "EmployeeCount               0.000000   0.000000\n",
              "EnvironmentSatisfaction     0.058095  -0.026543\n",
              "Gender                      0.579176   0.609514\n",
              "Healthcare Representative   0.125813   0.072349\n",
              "Human Resources             0.034707   0.046581\n",
              "Human Resources             0.015184   0.019822\n",
              "Human Resources             0.010846   0.046581\n",
              "JobInvolvement              0.004578  -0.002092\n",
              "JobLevel                    3.223427   1.534192\n",
              "JobSatisfaction             0.004188  -0.001914\n",
              "Laboratory Technician       0.049892   0.233895\n",
              "Life Sciences               0.416486   0.410307\n",
              "Manager                     0.210412   0.004955\n",
              "Manufacturing Director      0.127983   0.085233\n",
              "Marketing                   0.125813   0.100099\n",
              "Married                     0.509761   0.434093\n",
              "Medical                     0.305857   0.320119\n",
              "MonthlyIncome               1.013807  -0.463196\n",
              "MonthlyRate                 0.036915  -0.016866\n",
              "NumCompaniesWorked          0.057711  -0.026367\n",
              "Other                       0.049892   0.058474\n",
              "OverTime                    0.273319   0.287413\n",
              "PercentSalaryHike          -0.035923   0.016413\n",
              "PerformanceRating           0.000753  -0.000344\n",
              "RelationshipSatisfaction    0.017370  -0.007936\n",
              "Research & Development      0.626898   0.666006\n",
              "Research Director           0.156182   0.007929\n",
              "Research Scientist          0.054230   0.264618\n",
              "Sales                       0.338395   0.287413\n",
              "Sales Executive             0.260304   0.204163\n",
              "Sales Representative        0.004338   0.080278\n",
              "Single                      0.258134   0.347869\n",
              "StandardHours               0.000000   0.000000\n",
              "StockOptionLevel            0.841649   0.772052\n",
              "Technical Degree            0.086768   0.091179\n",
              "TotalWorkingYears           1.028276  -0.469807\n",
              "TrainingTimesLastYear      -0.021016   0.009602\n",
              "WorkLifeBalance             0.015589  -0.007123\n",
              "YearsAtCompany              0.950368  -0.434212\n",
              "YearsInCurrentRole          0.914725  -0.417927\n",
              "YearsSinceLastPromotion     0.790180  -0.361024\n",
              "YearsWithCurrManager        0.868572  -0.396840\n",
              "% of Attrition             31.360544  68.639456"
            ],
            "text/html": [
              "\n",
              "  <div id=\"df-bac88104-7695-4b95-ba11-00050d8fe853\">\n",
              "    <div class=\"colab-df-container\">\n",
              "      <div>\n",
              "<style scoped>\n",
              "    .dataframe tbody tr th:only-of-type {\n",
              "        vertical-align: middle;\n",
              "    }\n",
              "\n",
              "    .dataframe tbody tr th {\n",
              "        vertical-align: top;\n",
              "    }\n",
              "\n",
              "    .dataframe thead th {\n",
              "        text-align: right;\n",
              "    }\n",
              "</style>\n",
              "<table border=\"1\" class=\"dataframe\">\n",
              "  <thead>\n",
              "    <tr style=\"text-align: right;\">\n",
              "      <th>Cluster</th>\n",
              "      <th>0</th>\n",
              "      <th>1</th>\n",
              "    </tr>\n",
              "  </thead>\n",
              "  <tbody>\n",
              "    <tr>\n",
              "      <th>Age</th>\n",
              "      <td>0.661554</td>\n",
              "      <td>-0.302256</td>\n",
              "    </tr>\n",
              "    <tr>\n",
              "      <th>Attrition</th>\n",
              "      <td>0.099783</td>\n",
              "      <td>0.189296</td>\n",
              "    </tr>\n",
              "    <tr>\n",
              "      <th>BusinessTravel</th>\n",
              "      <td>1.080260</td>\n",
              "      <td>1.089197</td>\n",
              "    </tr>\n",
              "    <tr>\n",
              "      <th>DistanceFromHome</th>\n",
              "      <td>-0.001539</td>\n",
              "      <td>0.000703</td>\n",
              "    </tr>\n",
              "    <tr>\n",
              "      <th>Divorced</th>\n",
              "      <td>0.232104</td>\n",
              "      <td>0.218038</td>\n",
              "    </tr>\n",
              "    <tr>\n",
              "      <th>Education</th>\n",
              "      <td>3.071584</td>\n",
              "      <td>2.840436</td>\n",
              "    </tr>\n",
              "    <tr>\n",
              "      <th>EmployeeCount</th>\n",
              "      <td>0.000000</td>\n",
              "      <td>0.000000</td>\n",
              "    </tr>\n",
              "    <tr>\n",
              "      <th>EnvironmentSatisfaction</th>\n",
              "      <td>0.058095</td>\n",
              "      <td>-0.026543</td>\n",
              "    </tr>\n",
              "    <tr>\n",
              "      <th>Gender</th>\n",
              "      <td>0.579176</td>\n",
              "      <td>0.609514</td>\n",
              "    </tr>\n",
              "    <tr>\n",
              "      <th>Healthcare Representative</th>\n",
              "      <td>0.125813</td>\n",
              "      <td>0.072349</td>\n",
              "    </tr>\n",
              "    <tr>\n",
              "      <th>Human Resources</th>\n",
              "      <td>0.034707</td>\n",
              "      <td>0.046581</td>\n",
              "    </tr>\n",
              "    <tr>\n",
              "      <th>Human Resources</th>\n",
              "      <td>0.015184</td>\n",
              "      <td>0.019822</td>\n",
              "    </tr>\n",
              "    <tr>\n",
              "      <th>Human Resources</th>\n",
              "      <td>0.010846</td>\n",
              "      <td>0.046581</td>\n",
              "    </tr>\n",
              "    <tr>\n",
              "      <th>JobInvolvement</th>\n",
              "      <td>0.004578</td>\n",
              "      <td>-0.002092</td>\n",
              "    </tr>\n",
              "    <tr>\n",
              "      <th>JobLevel</th>\n",
              "      <td>3.223427</td>\n",
              "      <td>1.534192</td>\n",
              "    </tr>\n",
              "    <tr>\n",
              "      <th>JobSatisfaction</th>\n",
              "      <td>0.004188</td>\n",
              "      <td>-0.001914</td>\n",
              "    </tr>\n",
              "    <tr>\n",
              "      <th>Laboratory Technician</th>\n",
              "      <td>0.049892</td>\n",
              "      <td>0.233895</td>\n",
              "    </tr>\n",
              "    <tr>\n",
              "      <th>Life Sciences</th>\n",
              "      <td>0.416486</td>\n",
              "      <td>0.410307</td>\n",
              "    </tr>\n",
              "    <tr>\n",
              "      <th>Manager</th>\n",
              "      <td>0.210412</td>\n",
              "      <td>0.004955</td>\n",
              "    </tr>\n",
              "    <tr>\n",
              "      <th>Manufacturing Director</th>\n",
              "      <td>0.127983</td>\n",
              "      <td>0.085233</td>\n",
              "    </tr>\n",
              "    <tr>\n",
              "      <th>Marketing</th>\n",
              "      <td>0.125813</td>\n",
              "      <td>0.100099</td>\n",
              "    </tr>\n",
              "    <tr>\n",
              "      <th>Married</th>\n",
              "      <td>0.509761</td>\n",
              "      <td>0.434093</td>\n",
              "    </tr>\n",
              "    <tr>\n",
              "      <th>Medical</th>\n",
              "      <td>0.305857</td>\n",
              "      <td>0.320119</td>\n",
              "    </tr>\n",
              "    <tr>\n",
              "      <th>MonthlyIncome</th>\n",
              "      <td>1.013807</td>\n",
              "      <td>-0.463196</td>\n",
              "    </tr>\n",
              "    <tr>\n",
              "      <th>MonthlyRate</th>\n",
              "      <td>0.036915</td>\n",
              "      <td>-0.016866</td>\n",
              "    </tr>\n",
              "    <tr>\n",
              "      <th>NumCompaniesWorked</th>\n",
              "      <td>0.057711</td>\n",
              "      <td>-0.026367</td>\n",
              "    </tr>\n",
              "    <tr>\n",
              "      <th>Other</th>\n",
              "      <td>0.049892</td>\n",
              "      <td>0.058474</td>\n",
              "    </tr>\n",
              "    <tr>\n",
              "      <th>OverTime</th>\n",
              "      <td>0.273319</td>\n",
              "      <td>0.287413</td>\n",
              "    </tr>\n",
              "    <tr>\n",
              "      <th>PercentSalaryHike</th>\n",
              "      <td>-0.035923</td>\n",
              "      <td>0.016413</td>\n",
              "    </tr>\n",
              "    <tr>\n",
              "      <th>PerformanceRating</th>\n",
              "      <td>0.000753</td>\n",
              "      <td>-0.000344</td>\n",
              "    </tr>\n",
              "    <tr>\n",
              "      <th>RelationshipSatisfaction</th>\n",
              "      <td>0.017370</td>\n",
              "      <td>-0.007936</td>\n",
              "    </tr>\n",
              "    <tr>\n",
              "      <th>Research &amp; Development</th>\n",
              "      <td>0.626898</td>\n",
              "      <td>0.666006</td>\n",
              "    </tr>\n",
              "    <tr>\n",
              "      <th>Research Director</th>\n",
              "      <td>0.156182</td>\n",
              "      <td>0.007929</td>\n",
              "    </tr>\n",
              "    <tr>\n",
              "      <th>Research Scientist</th>\n",
              "      <td>0.054230</td>\n",
              "      <td>0.264618</td>\n",
              "    </tr>\n",
              "    <tr>\n",
              "      <th>Sales</th>\n",
              "      <td>0.338395</td>\n",
              "      <td>0.287413</td>\n",
              "    </tr>\n",
              "    <tr>\n",
              "      <th>Sales Executive</th>\n",
              "      <td>0.260304</td>\n",
              "      <td>0.204163</td>\n",
              "    </tr>\n",
              "    <tr>\n",
              "      <th>Sales Representative</th>\n",
              "      <td>0.004338</td>\n",
              "      <td>0.080278</td>\n",
              "    </tr>\n",
              "    <tr>\n",
              "      <th>Single</th>\n",
              "      <td>0.258134</td>\n",
              "      <td>0.347869</td>\n",
              "    </tr>\n",
              "    <tr>\n",
              "      <th>StandardHours</th>\n",
              "      <td>0.000000</td>\n",
              "      <td>0.000000</td>\n",
              "    </tr>\n",
              "    <tr>\n",
              "      <th>StockOptionLevel</th>\n",
              "      <td>0.841649</td>\n",
              "      <td>0.772052</td>\n",
              "    </tr>\n",
              "    <tr>\n",
              "      <th>Technical Degree</th>\n",
              "      <td>0.086768</td>\n",
              "      <td>0.091179</td>\n",
              "    </tr>\n",
              "    <tr>\n",
              "      <th>TotalWorkingYears</th>\n",
              "      <td>1.028276</td>\n",
              "      <td>-0.469807</td>\n",
              "    </tr>\n",
              "    <tr>\n",
              "      <th>TrainingTimesLastYear</th>\n",
              "      <td>-0.021016</td>\n",
              "      <td>0.009602</td>\n",
              "    </tr>\n",
              "    <tr>\n",
              "      <th>WorkLifeBalance</th>\n",
              "      <td>0.015589</td>\n",
              "      <td>-0.007123</td>\n",
              "    </tr>\n",
              "    <tr>\n",
              "      <th>YearsAtCompany</th>\n",
              "      <td>0.950368</td>\n",
              "      <td>-0.434212</td>\n",
              "    </tr>\n",
              "    <tr>\n",
              "      <th>YearsInCurrentRole</th>\n",
              "      <td>0.914725</td>\n",
              "      <td>-0.417927</td>\n",
              "    </tr>\n",
              "    <tr>\n",
              "      <th>YearsSinceLastPromotion</th>\n",
              "      <td>0.790180</td>\n",
              "      <td>-0.361024</td>\n",
              "    </tr>\n",
              "    <tr>\n",
              "      <th>YearsWithCurrManager</th>\n",
              "      <td>0.868572</td>\n",
              "      <td>-0.396840</td>\n",
              "    </tr>\n",
              "    <tr>\n",
              "      <th>% of Attrition</th>\n",
              "      <td>31.360544</td>\n",
              "      <td>68.639456</td>\n",
              "    </tr>\n",
              "  </tbody>\n",
              "</table>\n",
              "</div>\n",
              "      <button class=\"colab-df-convert\" onclick=\"convertToInteractive('df-bac88104-7695-4b95-ba11-00050d8fe853')\"\n",
              "              title=\"Convert this dataframe to an interactive table.\"\n",
              "              style=\"display:none;\">\n",
              "        \n",
              "  <svg xmlns=\"http://www.w3.org/2000/svg\" height=\"24px\"viewBox=\"0 0 24 24\"\n",
              "       width=\"24px\">\n",
              "    <path d=\"M0 0h24v24H0V0z\" fill=\"none\"/>\n",
              "    <path d=\"M18.56 5.44l.94 2.06.94-2.06 2.06-.94-2.06-.94-.94-2.06-.94 2.06-2.06.94zm-11 1L8.5 8.5l.94-2.06 2.06-.94-2.06-.94L8.5 2.5l-.94 2.06-2.06.94zm10 10l.94 2.06.94-2.06 2.06-.94-2.06-.94-.94-2.06-.94 2.06-2.06.94z\"/><path d=\"M17.41 7.96l-1.37-1.37c-.4-.4-.92-.59-1.43-.59-.52 0-1.04.2-1.43.59L10.3 9.45l-7.72 7.72c-.78.78-.78 2.05 0 2.83L4 21.41c.39.39.9.59 1.41.59.51 0 1.02-.2 1.41-.59l7.78-7.78 2.81-2.81c.8-.78.8-2.07 0-2.86zM5.41 20L4 18.59l7.72-7.72 1.47 1.35L5.41 20z\"/>\n",
              "  </svg>\n",
              "      </button>\n",
              "      \n",
              "  <style>\n",
              "    .colab-df-container {\n",
              "      display:flex;\n",
              "      flex-wrap:wrap;\n",
              "      gap: 12px;\n",
              "    }\n",
              "\n",
              "    .colab-df-convert {\n",
              "      background-color: #E8F0FE;\n",
              "      border: none;\n",
              "      border-radius: 50%;\n",
              "      cursor: pointer;\n",
              "      display: none;\n",
              "      fill: #1967D2;\n",
              "      height: 32px;\n",
              "      padding: 0 0 0 0;\n",
              "      width: 32px;\n",
              "    }\n",
              "\n",
              "    .colab-df-convert:hover {\n",
              "      background-color: #E2EBFA;\n",
              "      box-shadow: 0px 1px 2px rgba(60, 64, 67, 0.3), 0px 1px 3px 1px rgba(60, 64, 67, 0.15);\n",
              "      fill: #174EA6;\n",
              "    }\n",
              "\n",
              "    [theme=dark] .colab-df-convert {\n",
              "      background-color: #3B4455;\n",
              "      fill: #D2E3FC;\n",
              "    }\n",
              "\n",
              "    [theme=dark] .colab-df-convert:hover {\n",
              "      background-color: #434B5C;\n",
              "      box-shadow: 0px 1px 3px 1px rgba(0, 0, 0, 0.15);\n",
              "      filter: drop-shadow(0px 1px 2px rgba(0, 0, 0, 0.3));\n",
              "      fill: #FFFFFF;\n",
              "    }\n",
              "  </style>\n",
              "\n",
              "      <script>\n",
              "        const buttonEl =\n",
              "          document.querySelector('#df-bac88104-7695-4b95-ba11-00050d8fe853 button.colab-df-convert');\n",
              "        buttonEl.style.display =\n",
              "          google.colab.kernel.accessAllowed ? 'block' : 'none';\n",
              "\n",
              "        async function convertToInteractive(key) {\n",
              "          const element = document.querySelector('#df-bac88104-7695-4b95-ba11-00050d8fe853');\n",
              "          const dataTable =\n",
              "            await google.colab.kernel.invokeFunction('convertToInteractive',\n",
              "                                                     [key], {});\n",
              "          if (!dataTable) return;\n",
              "\n",
              "          const docLinkHtml = 'Like what you see? Visit the ' +\n",
              "            '<a target=\"_blank\" href=https://colab.research.google.com/notebooks/data_table.ipynb>data table notebook</a>'\n",
              "            + ' to learn more about interactive tables.';\n",
              "          element.innerHTML = '';\n",
              "          dataTable['output_type'] = 'display_data';\n",
              "          await google.colab.output.renderOutput(dataTable, element);\n",
              "          const docLink = document.createElement('div');\n",
              "          docLink.innerHTML = docLinkHtml;\n",
              "          element.appendChild(docLink);\n",
              "        }\n",
              "      </script>\n",
              "    </div>\n",
              "  </div>\n",
              "  "
            ]
          },
          "metadata": {},
          "execution_count": 89
        }
      ]
    },
    {
      "cell_type": "markdown",
      "source": [
        "**Congratulations! You've completed the WMP ML KTS.**"
      ],
      "metadata": {
        "id": "nBv7GBCr460S"
      }
    },
    {
      "cell_type": "markdown",
      "metadata": {
        "id": "3oAWvIpypj9N"
      },
      "source": [
        "## Advanced Exercises\n",
        "\n",
        "If you liked this tutorial, want to get involved in Machine Learning at West Monroe, or both, please go ahead and try the following additional exercises.\n",
        "\n",
        "1. In this tutorial we used the package Scikit-learn to examine different Machine Learning algorithms and their ability to predict attrition with the given data. Try implementing K-Nearest Neighbors from scratch (no Sklearn!) and compare the results to the findings in your notebook.\n",
        "\n",
        "2. Really love this stuff? Are you a math whiz? Implement a Gaussian Naive Bayes' classifier from scratch to classify this data. Compare its performance to the Scikit-learn GNB.\n",
        "\n",
        "3. Want to flex your presentation skills? Build a visualization or deck intended for a non-technical audience to showcase your findings"
      ]
    }
  ]
}