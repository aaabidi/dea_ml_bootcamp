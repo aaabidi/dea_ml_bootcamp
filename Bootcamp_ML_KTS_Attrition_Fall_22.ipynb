{
  "nbformat": 4,
  "nbformat_minor": 0,
  "metadata": {
    "kernelspec": {
      "display_name": "Python (showenv)",
      "language": "python",
      "name": "showenv"
    },
    "language_info": {
      "codemirror_mode": {
        "name": "ipython",
        "version": 3
      },
      "file_extension": ".py",
      "mimetype": "text/x-python",
      "name": "python",
      "nbconvert_exporter": "python",
      "pygments_lexer": "ipython3",
      "version": "3.7.3"
    },
    "colab": {
      "provenance": []
    }
  },
  "cells": [
    {
      "cell_type": "markdown",
      "metadata": {
        "id": "xHb_wLjWpj8Y"
      },
      "source": [
        "# WMP ML KTS Tutorial: Predicting Attrition with Machine Learning\n",
        "\n",
        "Name:\n",
        "\n",
        "Date:\n",
        "\n",
        "In this KTS, we will walk through a simplified process for what it is like to develop a Data Science project. The basic structure involves reading passages of information, and finishing exercises that are outlined for you. In some cases, there are bonus development opportunities for those that are interested. To accommodate all skill levels, here are some hotlinks that will be helpful for conducting the lab. These were sent out well ahead of time.\n",
        "\n",
        "Additionally, for those that just want to follow-along, a link with the answers to this notebook has been provided. **Please do not look at the answers until you have tried the section yourself**.\n",
        "\n",
        "**Python** will be the language with which you complete this lab. Some basic syntax and structure information is provided below. **Pandas** is Python's de-facto data management tool for data science, and relies heavily on dataframes. **Numpy** is a mathematics and linear algebra library that helps with general math operations, and **Sci-kit Learn** is Python's most basic and easy-to-use machine learning package.\n",
        "\n",
        "- Basic [Python](https://perso.limsi.fr/pointal/_media/python:cours:mementopython3-english.pdf) reference\n",
        "- [Pandas](https://pandas.pydata.org/Pandas_Cheat_Sheet.pdf) reference\n",
        "- [Numpy](https://s3.amazonaws.com/assets.datacamp.com/blog_assets/Numpy_Python_Cheat_Sheet.pdf) reference\n",
        "- [Sci-kit Learn](https://s3.amazonaws.com/assets.datacamp.com/blog_assets/Scikit_Learn_Cheat_Sheet_Python.pdf) reference\n",
        "\n",
        "**YOU DO NOT NEED TO DOWNLOAD A PYTHON ENVIRONMENT TO YOUR LOCAL MACHINE. THIS ENVIRONMENT WILL BE PROVIDED FOR YOU THROUGH GOOGLE COLAB**\n",
        "\n",
        "**Support:** If something does not work or make sense in this tutorial, please reach out to [Ammar](mailto:aabidi@wmp.com)\n",
        "\n",
        "## Agenda (60 minutes)\n",
        "\n",
        "- **\\[1., 2.\\]** Introduction, Imports, Reading in Data -- **5 minutes**\n",
        "    - Import packages\n",
        "    - Read in data\n",
        "- **\\[3.\\]** EDA, Data Quality Analysis -- **15 minutes**\n",
        "- **\\[4.\\]** Feature Engineering -- **30 minutes**\n",
        "    - a. Variable Selection\n",
        "    - b. Categorical data\n",
        "    - c. Ordinal data\n",
        "    - d. Boolean data\n",
        "    - e. Numeric Data\n",
        "    - f. Finalizing dataset\n",
        "- **\\[5.\\]** Splitting data, Modeling, Performance Evaluation -- **15 minutes**\n",
        "    - a. Importing models\n",
        "    - b. Splitting data\n",
        "    - c. Training models\n",
        "    - d. Generating predictions\n",
        "    - e. Evaluating performance\n",
        "    - f. Unsupervised learning and analysis\n"
      ]
    },
    {
      "cell_type": "markdown",
      "metadata": {
        "id": "UZQKhAy9pj8h"
      },
      "source": [
        "## 1. Python Library and Package Imports\n",
        "\n",
        "Feel free to import any of your own custom packages in the labeled section below along with pandas"
      ]
    },
    {
      "cell_type": "code",
      "metadata": {
        "scrolled": true,
        "id": "bzYTFBBCpj8i"
      },
      "source": [
        "# IMPORT DATA MANAGEMENT TOOL PANDAS AND GIVE IT THE ALIAS pd\n",
        "\n",
        "# IMPORT NUMPY AND GIVE IT THE ALIAS np\n"
      ],
      "execution_count": null,
      "outputs": []
    },
    {
      "cell_type": "markdown",
      "metadata": {
        "id": "Ztz_MRJHpj8j"
      },
      "source": [
        "## 2. Read in Data\n",
        "\n",
        "See if you can read in the .csv data to a dataframe using Pandas. Feel free to use the cheatsheets, Google.com, and Stack Overflow for help. The filepath is listed below.\n",
        "\n",
        "https://raw.githubusercontent.com/jswortz/UIC_Clustering_Code_2019/master/data/WA_Fn-UseC_-HR-Employee-Attrition.csv\n",
        "\n",
        "**EXERCISE:** Please read in the data to the variable named df (shorthand for DataFrame), then double check that it imported successfully. Run the cell below your input and verify there are 1470 rows and 35 columns"
      ]
    },
    {
      "cell_type": "code",
      "metadata": {
        "id": "jAGBbxRLpj8j"
      },
      "source": [
        "#WRITE YOUR CODE HERE TO READ IN DATA\n"
      ],
      "execution_count": null,
      "outputs": []
    },
    {
      "cell_type": "code",
      "metadata": {
        "id": "GsU2Ntpmpj8k",
        "colab": {
          "base_uri": "https://localhost:8080/",
          "height": 35
        },
        "outputId": "1cdcffbb-2077-4fde-eba7-032ee747a55f"
      },
      "source": [
        "#Verify the data shape\n"
      ],
      "execution_count": null,
      "outputs": [
        {
          "output_type": "execute_result",
          "data": {
            "text/plain": [
              "'Data Shape: 1470 rows x 35 cols'"
            ],
            "application/vnd.google.colaboratory.intrinsic+json": {
              "type": "string"
            }
          },
          "metadata": {},
          "execution_count": 56
        }
      ]
    },
    {
      "cell_type": "markdown",
      "metadata": {
        "id": "nh0juvScpj8m"
      },
      "source": [
        "## 3. Check Data Quality\n",
        "\n",
        "The first thing to do after reading in the data is check data quality and do EDA. Generally, EDA is a fairly long process on its own, but for the sake of time we have cut out a large portion of that. You can see a completed EDA notebook [here]() for reference later on in the lab.\n",
        "\n",
        "Machine Learning models are very sensitive to and intolerant of ill-formatted and missing data. Therefore, the following exercises will allow us to better grasp data quality and fix any issues.\n",
        "\n",
        "**EXERCISE:** See if you can find a snappy command to view any missing values in the dataframe, by column name."
      ]
    },
    {
      "cell_type": "code",
      "metadata": {
        "id": "fZpwPsNppj8m"
      },
      "source": [
        "# WRITE YOUR CODE HERE TO CHECK FOR NULL DATA\n"
      ],
      "execution_count": null,
      "outputs": []
    },
    {
      "cell_type": "markdown",
      "source": [],
      "metadata": {
        "id": "G_FYO8V-6T_E"
      }
    },
    {
      "cell_type": "markdown",
      "metadata": {
        "id": "J-XblJr7pj8n"
      },
      "source": [
        "Lucky us! As you can see there is no missing data. Now, we need to determine what data type each column is. This will help us determine what columns we should drop and which need manipulation to be better for modeling.\n",
        "\n",
        "**EXERCISE:** See if you can find a way to view the data type of each column, either by looking at a snapshot of the dataframe or by printing the data types."
      ]
    },
    {
      "cell_type": "code",
      "metadata": {
        "id": "21bk2Hrkpj8n"
      },
      "source": [
        "#PRINT THE TOP FIVE ROWS OF THE DATAFRAME HERE\n"
      ],
      "execution_count": null,
      "outputs": []
    },
    {
      "cell_type": "code",
      "metadata": {
        "id": "iUBQmqXkpj8o"
      },
      "source": [
        "#PRINT THE DATA TYPES, BY COLUMN, of THE DATAFRAME HERE\n"
      ],
      "execution_count": null,
      "outputs": []
    },
    {
      "cell_type": "markdown",
      "metadata": {
        "id": "Tps7D_z1pj8o"
      },
      "source": [
        "Interesting. There are several fields with a data type of \"object\". Use your data engineering skills to further understand what they are.\n",
        "\n",
        "**EXERCISE:** First, list out the names of all the columns with a data type of `object`. Then, show a snapshot of the dataframe for only these columns. **BONUS**: Do this without manually listing the column names using the `select_dtypes` function."
      ]
    },
    {
      "cell_type": "code",
      "metadata": {
        "id": "IsCJ_Eqjpj8p"
      },
      "source": [
        "#WRITE YOUR CODE HERE FOR OBJECT DATA TYPE COLUMNS\n"
      ],
      "execution_count": null,
      "outputs": []
    },
    {
      "cell_type": "code",
      "metadata": {
        "id": "OiIcKDdDpj8p"
      },
      "source": [
        "#PRINT A SNAPSHOT OF ALL OBJECT FIELDS IN DATAFRAME\n"
      ],
      "execution_count": null,
      "outputs": []
    },
    {
      "cell_type": "markdown",
      "metadata": {
        "id": "qOWBB3jzpj8q"
      },
      "source": [
        "**EXERCISE:** Finally, fill out the following form for each data field. Consider the following definitions for each, and take your time. This is very important for doing feature engineering correctly. Think about what the significance of a data type and its representation may have on a model. **Use the information in the EDA notebook found [here]() to help you**.\n",
        "\n",
        " - **Categorical**: Often a string value. Different groups, or categories of objects (e.g. Cat, Dog, Mouse, ...)\n",
        " - **Numerically Discrete**: Countably infinite numerical values. Often integers.\n",
        " - **Numerically Continuous**: Numbers, but not countably infinite. Often float values.\n",
        " - **Boolean**: Yes or No values. Sometime represented as 1 or 0 **OR** as a two option categorial variable.\n",
        " - **Ordinal**: Categorial variables with proximal association. e.g.) small, medium, large **OR** level 1, 2, 3"
      ]
    },
    {
      "cell_type": "markdown",
      "metadata": {
        "id": "QrGJekpwpj8q"
      },
      "source": [
        "\n",
        "| Column Name | Potential Data Types |\n",
        "| :----------- | ---------------------|\n",
        "|**`Age`**$\\;\\;\\;\\;\\;\\;\\;\\;\\;\\;$   |   <input type=\"checkbox\" align = \"right\"> Categorical  $\\;\\;\\;\\;$ <input type=\"checkbox\" align = \"right\" > Numeric Discrete $\\;\\;\\;\\;$ <input type=\"checkbox\" align = \"right\"> Numeric Continuous $\\;\\;\\;\\;$ <input type=\"checkbox\" align = \"right\"> Boolean $\\;\\;\\;\\;$ <input type=\"checkbox\" align = \"right\"> Ordinal\n",
        "|\n",
        "|**`Attrition`**$\\;\\;\\;\\;\\;\\;\\;\\;\\;\\;$ |     <input type=\"checkbox\"> Categorical  $\\;\\;\\;\\;$ <input type=\"checkbox\"> Numeric Discrete $\\;\\;\\;\\;$ <input type=\"checkbox\"> Numeric Continuous $\\;\\;\\;\\;$ <input type=\"checkbox\" > Boolean $\\;\\;\\;\\;$ <input type=\"checkbox\"> Ordinal\n",
        "|\n",
        "|**`BusinessTravel`**$\\;\\;\\;\\;\\;\\;\\;\\;\\;\\;$ |     <input type=\"checkbox\" align = \"right\"> Categorical  $\\;\\;\\;\\;$ <input type=\"checkbox\" align = \"right\"> Numeric Discrete $\\;\\;\\;\\;$ <input type=\"checkbox\" align = \"right\"> Numeric Continuous $\\;\\;\\;\\;$ <input type=\"checkbox\" align = \"right\"> Boolean $\\;\\;\\;\\;$ <input type=\"checkbox\" align = \"right\" > Ordinal\n",
        "|\n",
        "|**`DailyRate`**$\\;\\;\\;\\;\\;\\;\\;\\;\\;\\;$   |   <input type=\"checkbox\" align = \"right\"> Categorical  $\\;\\;\\;\\;$ <input type=\"checkbox\" align = \"right\" > Numeric Discrete $\\;\\;\\;\\;$ <input type=\"checkbox\" align = \"right\"> Numeric Continuous $\\;\\;\\;\\;$ <input type=\"checkbox\" align = \"right\"> Boolean $\\;\\;\\;\\;$ <input type=\"checkbox\" align = \"right\"> Ordinal\n",
        "|\n",
        "|**`Department`**$\\;\\;\\;\\;\\;\\;\\;\\;\\;\\;$ |     <input type=\"checkbox\" align = \"right\" > Categorical  $\\;\\;\\;\\;$ <input type=\"checkbox\" align = \"right\"> Numeric Discrete $\\;\\;\\;\\;$ <input type=\"checkbox\" align = \"right\"> Numeric Continuous $\\;\\;\\;\\;$ <input type=\"checkbox\" align = \"right\"> Boolean $\\;\\;\\;\\;$ <input type=\"checkbox\" align = \"right\"> Ordinal\n",
        "|\n",
        "|**`DistanceFromHome`**$\\;\\;\\;\\;\\;\\;\\;\\;\\;\\;$   |   <input type=\"checkbox\" align = \"right\"> Categorical  $\\;\\;\\;\\;$ <input type=\"checkbox\" align = \"right\" > Numeric Discrete $\\;\\;\\;\\;$ <input type=\"checkbox\" align = \"right\"> Numeric Continuous $\\;\\;\\;\\;$ <input type=\"checkbox\" align = \"right\"> Boolean $\\;\\;\\;\\;$ <input type=\"checkbox\" align = \"right\"> Ordinal\n",
        "|\n",
        "|**`Education`**$\\;\\;\\;\\;\\;\\;\\;\\;\\;\\;$    |  <input type=\"checkbox\" align = \"right\"> Categorical  $\\;\\;\\;\\;$ <input type=\"checkbox\" align = \"right\"> Numeric Discrete $\\;\\;\\;\\;$ <input type=\"checkbox\" align = \"right\"> Numeric Continuous $\\;\\;\\;\\;$ <input type=\"checkbox\" align = \"right\"> Boolean $\\;\\;\\;\\;$ <input type=\"checkbox\" align = \"right\" > Ordinal\n",
        "|\n",
        "|**`EducationField`**$\\;\\;\\;\\;\\;\\;\\;\\;\\;\\;$  |    <input type=\"checkbox\" align = \"right\" > Categorical  $\\;\\;\\;\\;$ <input type=\"checkbox\" align = \"right\"> Numeric Discrete $\\;\\;\\;\\;$ <input type=\"checkbox\" align = \"right\"> Numeric Continuous $\\;\\;\\;\\;$ <input type=\"checkbox\" align = \"right\"> Boolean $\\;\\;\\;\\;$ <input type=\"checkbox\" align = \"right\"> Ordinal\n",
        "|\n",
        "|**`EmployeeCount`**$\\;\\;\\;\\;\\;\\;\\;\\;\\;\\;$   |   <input type=\"checkbox\" align = \"right\"> Categorical  $\\;\\;\\;\\;$ <input type=\"checkbox\" align = \"right\" > Numeric Discrete $\\;\\;\\;\\;$ <input type=\"checkbox\" align = \"right\"> Numeric Continuous $\\;\\;\\;\\;$ <input type=\"checkbox\" align = \"right\"> Boolean $\\;\\;\\;\\;$ <input type=\"checkbox\" align = \"right\"> Ordinal\n",
        "|\n",
        "|**`EmployeeNumber`**$\\;\\;\\;\\;\\;\\;\\;\\;\\;\\;$   |   <input type=\"checkbox\" align = \"right\"> Categorical  $\\;\\;\\;\\;$ <input type=\"checkbox\" align = \"right\" > Numeric Discrete $\\;\\;\\;\\;$ <input type=\"checkbox\" align = \"right\"> Numeric Continuous $\\;\\;\\;\\;$ <input type=\"checkbox\" align = \"right\"> Boolean $\\;\\;\\;\\;$ <input type=\"checkbox\" align = \"right\"> Ordinal\n",
        "|\n",
        "|**`EnvironmentSatisfaction`**$\\;\\;\\;\\;\\;\\;\\;\\;\\;\\;$  |    <input type=\"checkbox\" align = \"right\"> Categorical  $\\;\\;\\;\\;$ <input type=\"checkbox\" align = \"right\" > Numeric Discrete $\\;\\;\\;\\;$ <input type=\"checkbox\" align = \"right\"> Numeric Continuous $\\;\\;\\;\\;$ <input type=\"checkbox\" align = \"right\"> Boolean $\\;\\;\\;\\;$ <input type=\"checkbox\" align = \"right\"> Ordinal\n",
        "|\n",
        "|**`Gender`**$\\;\\;\\;\\;\\;\\;\\;\\;\\;\\;$   |   <input type=\"checkbox\" align = \"right\"> Categorical  $\\;\\;\\;\\;$ <input type=\"checkbox\" align = \"right\"> Numeric Discrete $\\;\\;\\;\\;$ <input type=\"checkbox\" align = \"right\"> Numeric Continuous $\\;\\;\\;\\;$ <input type=\"checkbox\" align = \"right\" > Boolean $\\;\\;\\;\\;$ <input type=\"checkbox\" align = \"right\"> Ordinal\n",
        "|\n",
        "|**`HourlyRate`**$\\;\\;\\;\\;\\;\\;\\;\\;\\;\\;$  |    <input type=\"checkbox\" align = \"right\"> Categorical  $\\;\\;\\;\\;$ <input type=\"checkbox\" align = \"right\" > Numeric Discrete $\\;\\;\\;\\;$ <input type=\"checkbox\" align = \"right\"> Numeric Continuous $\\;\\;\\;\\;$ <input type=\"checkbox\" align = \"right\"> Boolean $\\;\\;\\;\\;$ <input type=\"checkbox\" align = \"right\"> Ordinal\n",
        "|\n",
        "|**`JobInvolvement`**$\\;\\;\\;\\;\\;\\;\\;\\;\\;\\;$ |     <input type=\"checkbox\" align = \"right\"> Categorical  $\\;\\;\\;\\;$ <input type=\"checkbox\" align = \"right\" > Numeric Discrete $\\;\\;\\;\\;$ <input type=\"checkbox\" align = \"right\"> Numeric Continuous $\\;\\;\\;\\;$ <input type=\"checkbox\" align = \"right\"> Boolean $\\;\\;\\;\\;$ <input type=\"checkbox\" align = \"right\"> Ordinal\n",
        "|\n",
        "|**`JobLevel`**$\\;\\;\\;\\;\\;\\;\\;\\;\\;\\;$   |   <input type=\"checkbox\" align = \"right\"> Categorical  $\\;\\;\\;\\;$ <input type=\"checkbox\" align = \"right\"> Numeric Discrete $\\;\\;\\;\\;$ <input type=\"checkbox\" align = \"right\"> Numeric Continuous $\\;\\;\\;\\;$ <input type=\"checkbox\" align = \"right\"> Boolean $\\;\\;\\;\\;$ <input type=\"checkbox\" align = \"right\" > Ordinal\n",
        "|\n",
        "|**`JobRole`**$\\;\\;\\;\\;\\;\\;\\;\\;\\;\\;$  |    <input type=\"checkbox\" align = \"right\" > Categorical  $\\;\\;\\;\\;$ <input type=\"checkbox\" align = \"right\"> Numeric Discrete $\\;\\;\\;\\;$ <input type=\"checkbox\" align = \"right\"> Numeric Continuous $\\;\\;\\;\\;$ <input type=\"checkbox\" align = \"right\"> Boolean $\\;\\;\\;\\;$ <input type=\"checkbox\" align = \"right\"> Ordinal\n",
        "|\n",
        "|**`JobSatisfaction`**$\\;\\;\\;\\;\\;\\;\\;\\;\\;\\;$  |    <input type=\"checkbox\" align = \"right\"> Categorical  $\\;\\;\\;\\;$ <input type=\"checkbox\" align = \"right\" > Numeric Discrete $\\;\\;\\;\\;$ <input type=\"checkbox\" align = \"right\"> Numeric Continuous $\\;\\;\\;\\;$ <input type=\"checkbox\" align = \"right\"> Boolean $\\;\\;\\;\\;$ <input type=\"checkbox\" align = \"right\"> Ordinal\n",
        "|\n",
        "|**`MaritalStatus`**$\\;\\;\\;\\;\\;\\;\\;\\;\\;\\;$   |   <input type=\"checkbox\" align = \"right\" > Categorical  $\\;\\;\\;\\;$ <input type=\"checkbox\" align = \"right\"> Numeric Discrete $\\;\\;\\;\\;$ <input type=\"checkbox\" align = \"right\"> Numeric Continuous $\\;\\;\\;\\;$ <input type=\"checkbox\" align = \"right\"> Boolean $\\;\\;\\;\\;$ <input type=\"checkbox\" align = \"right\"> Ordinal\n",
        "|\n",
        "|**`MonthlyIncome`**$\\;\\;\\;\\;\\;\\;\\;\\;\\;\\;$  |    <input type=\"checkbox\" align = \"right\"> Categorical  $\\;\\;\\;\\;$ <input type=\"checkbox\" align = \"right\" > Numeric Discrete $\\;\\;\\;\\;$ <input type=\"checkbox\" align = \"right\"> Numeric Continuous $\\;\\;\\;\\;$ <input type=\"checkbox\" align = \"right\"> Boolean $\\;\\;\\;\\;$ <input type=\"checkbox\" align = \"right\"> Ordinal\n",
        "|\n",
        "|**`MonthlyRate`**$\\;\\;\\;\\;\\;\\;\\;\\;\\;\\;$  |    <input type=\"checkbox\" align = \"right\"> Categorical  $\\;\\;\\;\\;$ <input type=\"checkbox\" align = \"right\" > Numeric Discrete $\\;\\;\\;\\;$ <input type=\"checkbox\" align = \"right\"> Numeric Continuous $\\;\\;\\;\\;$ <input type=\"checkbox\" align = \"right\"> Boolean $\\;\\;\\;\\;$ <input type=\"checkbox\" align = \"right\"> Ordinal\n",
        "|\n",
        "|**`NumCompaniesWorked`**$\\;\\;\\;\\;\\;\\;\\;\\;\\;\\;$  |    <input type=\"checkbox\" align = \"right\"> Categorical  $\\;\\;\\;\\;$ <input type=\"checkbox\" align = \"right\" > Numeric Discrete $\\;\\;\\;\\;$ <input type=\"checkbox\" align = \"right\"> Numeric Continuous $\\;\\;\\;\\;$ <input type=\"checkbox\" align = \"right\"> Boolean $\\;\\;\\;\\;$ <input type=\"checkbox\" align = \"right\"> Ordinal\n",
        "|\n",
        "|**`Over18`**$\\;\\;\\;\\;\\;\\;\\;\\;\\;\\;$ |     <input type=\"checkbox\" align = \"right\"> Categorical  $\\;\\;\\;\\;$ <input type=\"checkbox\" align = \"right\"> Numeric Discrete $\\;\\;\\;\\;$ <input type=\"checkbox\" align = \"right\"> Numeric Continuous $\\;\\;\\;\\;$ <input type=\"checkbox\" align = \"right\" > Boolean $\\;\\;\\;\\;$ <input type=\"checkbox\" align = \"right\"> Ordinal\n",
        "|\n",
        "|**`OverTime`**$\\;\\;\\;\\;\\;\\;\\;\\;\\;\\;$    |  <input type=\"checkbox\" align = \"right\"> Categorical  $\\;\\;\\;\\;$ <input type=\"checkbox\" align = \"right\"> Numeric Discrete $\\;\\;\\;\\;$ <input type=\"checkbox\" align = \"right\"> Numeric Continuous $\\;\\;\\;\\;$ <input type=\"checkbox\" align = \"right\" > Boolean $\\;\\;\\;\\;$ <input type=\"checkbox\" align = \"right\"> Ordinal\n",
        "|\n",
        "|**`PercentSalaryHike`**$\\;\\;\\;\\;\\;\\;\\;\\;\\;\\;$   |   <input type=\"checkbox\" align = \"right\"> Categorical  $\\;\\;\\;\\;$ <input type=\"checkbox\" align = \"right\" > Numeric Discrete $\\;\\;\\;\\;$ <input type=\"checkbox\" align = \"right\"> Numeric Continuous $\\;\\;\\;\\;$ <input type=\"checkbox\" align = \"right\"> Boolean $\\;\\;\\;\\;$ <input type=\"checkbox\" align = \"right\"> Ordinal\n",
        "|\n",
        "|**`PerformanceRating`**$\\;\\;\\;\\;\\;\\;\\;\\;\\;\\;$  |    <input type=\"checkbox\" align = \"right\"> Categorical  $\\;\\;\\;\\;$ <input type=\"checkbox\" align = \"right\" > Numeric Discrete $\\;\\;\\;\\;$ <input type=\"checkbox\" align = \"right\"> Numeric Continuous $\\;\\;\\;\\;$ <input type=\"checkbox\" align = \"right\"> Boolean $\\;\\;\\;\\;$ <input type=\"checkbox\" align = \"right\"> Ordinal\n",
        "|\n",
        "|**`RelationshipSatisfaction`**$\\;\\;\\;\\;\\;\\;\\;\\;\\;\\;$  |    <input type=\"checkbox\" align = \"right\"> Categorical  $\\;\\;\\;\\;$ <input type=\"checkbox\" align = \"right\" > Numeric Discrete $\\;\\;\\;\\;$ <input type=\"checkbox\" align = \"right\"> Numeric Continuous $\\;\\;\\;\\;$ <input type=\"checkbox\" align = \"right\"> Boolean $\\;\\;\\;\\;$ <input type=\"checkbox\" align = \"right\"> Ordinal\n",
        "|\n",
        "|**`StandardHours`**$\\;\\;\\;\\;\\;\\;\\;\\;\\;\\;$    |  <input type=\"checkbox\" align = \"right\"> Categorical  $\\;\\;\\;\\;$ <input type=\"checkbox\" align = \"right\" > Numeric Discrete $\\;\\;\\;\\;$ <input type=\"checkbox\" align = \"right\"> Numeric Continuous $\\;\\;\\;\\;$ <input type=\"checkbox\" align = \"right\"> Boolean $\\;\\;\\;\\;$ <input type=\"checkbox\" align = \"right\"> Ordinal\n",
        "|\n",
        "|**`StockOptionLevel`**$\\;\\;\\;\\;\\;\\;\\;\\;\\;\\;$  |    <input type=\"checkbox\" align = \"right\"> Categorical  $\\;\\;\\;\\;$ <input type=\"checkbox\" align = \"right\"> Numeric Discrete $\\;\\;\\;\\;$ <input type=\"checkbox\" align = \"right\"> Numeric Continuous $\\;\\;\\;\\;$ <input type=\"checkbox\" align = \"right\"> Boolean $\\;\\;\\;\\;$ <input type=\"checkbox\" align = \"right\" > Ordinal\n",
        "|\n",
        "|**`TotalWorkingYears`**$\\;\\;\\;\\;\\;\\;\\;\\;\\;\\;$  |    <input type=\"checkbox\" align = \"right\"> Categorical  $\\;\\;\\;\\;$ <input type=\"checkbox\" align = \"right\" > Numeric Discrete $\\;\\;\\;\\;$ <input type=\"checkbox\" align = \"right\"> Numeric Continuous $\\;\\;\\;\\;$ <input type=\"checkbox\" align = \"right\"> Boolean $\\;\\;\\;\\;$ <input type=\"checkbox\" align = \"right\"> Ordinal\n",
        "|\n",
        "|**`TrainingTimesLastYear`**$\\;\\;\\;\\;\\;\\;\\;\\;\\;\\;$  |    <input type=\"checkbox\" align = \"right\"> Categorical  $\\;\\;\\;\\;$ <input type=\"checkbox\" align = \"right\" > Numeric Discrete $\\;\\;\\;\\;$ <input type=\"checkbox\" align = \"right\"> Numeric Continuous $\\;\\;\\;\\;$ <input type=\"checkbox\" align = \"right\"> Boolean $\\;\\;\\;\\;$ <input type=\"checkbox\" align = \"right\"> Ordinal\n",
        "|\n",
        "|**`WorkLifeBalance`**$\\;\\;\\;\\;\\;\\;\\;\\;\\;\\;$   |   <input type=\"checkbox\" align = \"right\"> Categorical  $\\;\\;\\;\\;$ <input type=\"checkbox\" align = \"right\" > Numeric Discrete $\\;\\;\\;\\;$ <input type=\"checkbox\" align = \"right\"> Numeric Continuous $\\;\\;\\;\\;$ <input type=\"checkbox\" align = \"right\"> Boolean $\\;\\;\\;\\;$ <input type=\"checkbox\" align = \"right\"> Ordinal\n",
        "|\n",
        "|**`YearsAtCompany`**$\\;\\;\\;\\;\\;\\;\\;\\;\\;\\;$  |    <input type=\"checkbox\" align = \"right\"> Categorical  $\\;\\;\\;\\;$ <input type=\"checkbox\" align = \"right\" > Numeric Discrete $\\;\\;\\;\\;$ <input type=\"checkbox\" align = \"right\"> Numeric Continuous $\\;\\;\\;\\;$ <input type=\"checkbox\" align = \"right\"> Boolean $\\;\\;\\;\\;$ <input type=\"checkbox\" align = \"right\"> Ordinal\n",
        "|\n",
        "|**`YearsInCurrentRole`**$\\;\\;\\;\\;\\;\\;\\;\\;\\;\\;$   |   <input type=\"checkbox\" align = \"right\"> Categorical  $\\;\\;\\;\\;$ <input type=\"checkbox\" align = \"right\" > Numeric Discrete $\\;\\;\\;\\;$ <input type=\"checkbox\" align = \"right\"> Numeric Continuous $\\;\\;\\;\\;$ <input type=\"checkbox\" align = \"right\"> Boolean $\\;\\;\\;\\;$ <input type=\"checkbox\" align = \"right\"> Ordinal\n",
        "|\n",
        "|**`YearsSinceLastPromotion`**   $\\;\\;\\;\\;\\;\\;\\;\\;\\;\\;$  |    <input type=\"checkbox\" align = \"right\"> Categorical  $\\;\\;\\;\\;$ <input type=\"checkbox\" align = \"right\" > Numeric Discrete $\\;\\;\\;\\;$ <input type=\"checkbox\" align = \"right\"> Numeric Continuous $\\;\\;\\;\\;$ <input type=\"checkbox\" align = \"right\"> Boolean $\\;\\;\\;\\;$ <input type=\"checkbox\" align = \"right\"> Ordinal\n",
        "|  \n",
        "|**`YearsWithCurrManager`**  $\\;\\;\\;\\;\\;\\;\\;\\;\\;\\;$   |   <input type=\"checkbox\" align = \"right\"> Categorical  $\\;\\;\\;\\;$ <input type=\"checkbox\" align = \"right\" > Numeric Discrete $\\;\\;\\;\\;$ <input type=\"checkbox\" align = \"right\"> Numeric Continuous $\\;\\;\\;\\;$ <input type=\"checkbox\" align = \"right\"> Boolean $\\;\\;\\;\\;$ <input type=\"checkbox\" align = \"right\"> Ordinal\n",
        "|      "
      ]
    },
    {
      "cell_type": "markdown",
      "metadata": {
        "id": "m4pbxaqspj8y"
      },
      "source": [
        "## 4. Feature Engineering\n",
        "\n",
        "Now that we have a good grasp for the data and its data types, we need to do the following to prepare for modeling.\n",
        "\n",
        "    1.) Determine what fields make sense to include for modeling. (What could reasonably impact attrition?)\n",
        "    2.) How should different data types be transformed to be conducive for modeling?\n",
        "    3.) Write the code necessary for creating a modeling dataset."
      ]
    },
    {
      "cell_type": "markdown",
      "metadata": {
        "id": "guBkJDU6pj84"
      },
      "source": [
        "### 4.a. Variable Selection\n",
        "\n",
        "We want to include everything that could even have the slightest impact on attrition, but leave out the remaining fields.\n",
        "\n",
        "**EXERCISE**: List the fields that you should remove and write a small description outlining your logic.\n",
        "\n",
        "        \n",
        "**EXERCISE**: With your data to drop now defined, drop the columns while keeping the data in variable `df`. (**HINT**: There are three columns to drop)"
      ]
    },
    {
      "cell_type": "code",
      "metadata": {
        "id": "EadD1TVxpj84"
      },
      "source": [
        "#WRITE CODE HERE TO DROP COLUMNS"
      ],
      "execution_count": null,
      "outputs": []
    },
    {
      "cell_type": "markdown",
      "metadata": {
        "id": "tJReku5Epj84"
      },
      "source": [
        "### 4.b. Handling Categorical Data\n",
        "\n",
        "Categorical data is almost always represented with string data types. Mathematical models do not know how to process strings so as data scientists we must alias them and create dummy variables.\n",
        "\n",
        "**EXERCISE**: The function below is intended to create dummy variables of each categorical variable in the dataset, then combine all of the information into a single dataframe called `categorical_df`. Edit the line of the function that says `WRITE DUMMY...` to finish the logic. Then, create a list of the categorical variables that need to be converted, and execute the function to convert them. Name the output variable `categorical_df`."
      ]
    },
    {
      "cell_type": "code",
      "metadata": {
        "id": "yR-5H-nlpj85"
      },
      "source": [
        "#Provided categorical dataframe function\n",
        "def create_categorical_df(data, column_names):\n",
        "\n",
        "    #Initialize categorical dataframe\n",
        "    categorical_df = None\n",
        "\n",
        "    #Iterate through column names\n",
        "    for categorical_column in column_names:\n",
        "\n",
        "        #----WRITE DUMMY VARIABLE FUNCTION HERE----\n",
        "        categorical_dummies = pd.get_dummies(data[categorical_column])\n",
        "\n",
        "        #Extra logic to add data to existing dataframe\n",
        "        if categorical_df is None:\n",
        "            categorical_df = categorical_dummies\n",
        "\n",
        "        else:\n",
        "            categorical_df = pd.concat([categorical_df, categorical_dummies], axis =1)\n",
        "\n",
        "    #Return categorical data\n",
        "    return categorical_df"
      ],
      "execution_count": null,
      "outputs": []
    },
    {
      "cell_type": "code",
      "metadata": {
        "id": "unSALy3qpj85"
      },
      "source": [
        "#MAKE LIST OF CATEGORICAL COLUMN NAMES HERE\n",
        "\n",
        "\n",
        "#EXECUTE FUNCTION HERE TO MAKE CATEGORICAL DF\n"
      ],
      "execution_count": null,
      "outputs": []
    },
    {
      "cell_type": "markdown",
      "metadata": {
        "id": "I7aYWSAipj85"
      },
      "source": [
        "**EXERCISE**: Verify you were successful by printing the head of the categorical dataset"
      ]
    },
    {
      "cell_type": "code",
      "metadata": {
        "id": "nFg_8VCEpj85"
      },
      "source": [
        "#WRITE CODE HERE TO VIEW HEAD OF CATEGORICAL DF\n"
      ],
      "execution_count": null,
      "outputs": []
    },
    {
      "cell_type": "markdown",
      "metadata": {
        "id": "XeMGnlNvpj86"
      },
      "source": [
        "### 4.c. Handling Ordinal Data\n",
        "\n",
        "Similar to categorical data, ordinal data is also often a string value. However, we do not need to make dummies of this data since there is a measure of proximity. We only need to alias the data but also ensure that **the logical order of the data is maintained**.\n",
        "\n",
        "**EXERCISE**: The function below converts ordinal data into a model friendly format. Create a list of all ordinal data types to be converted, then create the function call and save the output at ordinal_df. (HINT: There are a total of **Four** columns, but **ONLY ONE** needs to be preprocessed. Put only the one that needs to be preprocessed in the `ordinal_df` list below. We will add the rest later."
      ]
    },
    {
      "cell_type": "code",
      "metadata": {
        "id": "IQt7rsRYpj86"
      },
      "source": [
        "#provided ordinal dataframe function\n",
        "def create_ordinal_df(data, ordinal_names, ordinal_dict):\n",
        "\n",
        "    ordinal_df = data.loc[:,ordinal_names]\n",
        "\n",
        "    for name in ordinal_names:\n",
        "        ordinal_df[name] = ordinal_df[name].map(ordinal_dict)\n",
        "\n",
        "    return ordinal_df\n",
        "\n",
        "#Provided function to view ordinality\n",
        "def view_ordinality(data, ordinal_names):\n",
        "    for name in ordinal_names:\n",
        "        print(data[name].drop_duplicates())\n",
        "        print()"
      ],
      "execution_count": null,
      "outputs": []
    },
    {
      "cell_type": "code",
      "metadata": {
        "id": "iV3EeFyZpj87"
      },
      "source": [
        "#MAKE LIST OF ORDINAL COLUMN NAMES HERE\n"
      ],
      "execution_count": null,
      "outputs": []
    },
    {
      "cell_type": "markdown",
      "metadata": {
        "id": "Cxuu7aMUpj87"
      },
      "source": [
        "**EXERCISE**: View the ordinality of the appropriate column name, and make the corresponding dictionary (e.g. 0 = low, 1 = medium, 2 = high)."
      ]
    },
    {
      "cell_type": "code",
      "metadata": {
        "id": "mbOpogyJpj87"
      },
      "source": [
        "#VIEW ORDINALITY OF ORDINAL COLUMNS\n"
      ],
      "execution_count": null,
      "outputs": []
    },
    {
      "cell_type": "code",
      "metadata": {
        "id": "rd1TDZiQpj88"
      },
      "source": [
        "#MAKE ORDINAL DICTIONARY\n"
      ],
      "execution_count": null,
      "outputs": []
    },
    {
      "cell_type": "code",
      "metadata": {
        "id": "1SoDw3OApj89"
      },
      "source": [
        "#MAKE FUNCTION CALL HERE TO CREATE ORDINAL DATAFRAME"
      ],
      "execution_count": null,
      "outputs": []
    },
    {
      "cell_type": "markdown",
      "metadata": {
        "id": "IUoNIZtWpj8-"
      },
      "source": [
        "Finally, let's add back all of the ordinal columns that did not need any alteration. These include Education, StockOptionLevel, and JobLevel."
      ]
    },
    {
      "cell_type": "code",
      "metadata": {
        "id": "Tp_FL3Azpj8-"
      },
      "source": [
        "#Data is added back for you.\n",
        "ordinal_df = pd.concat([ordinal_df, df.loc[:, [\"Education\", \"StockOptionLevel\", \"JobLevel\"]]], axis = 1)"
      ],
      "execution_count": null,
      "outputs": []
    },
    {
      "cell_type": "markdown",
      "metadata": {
        "id": "ntnX_v5xpj8_"
      },
      "source": [
        "**EXERCISE**: Verify you were successful by checking the data types of the ordinal_df. They should be integers."
      ]
    },
    {
      "cell_type": "code",
      "metadata": {
        "id": "3y2PBkW1pj8_"
      },
      "source": [
        "#VIEW DATA TYPES OF ORDINAL DF HERE\n"
      ],
      "execution_count": null,
      "outputs": []
    },
    {
      "cell_type": "markdown",
      "metadata": {
        "id": "j5Vy_ubCpj9A"
      },
      "source": [
        "### 4.d. Handling Boolean Data\n",
        "\n",
        "Boolean data is also often in string format. This conversion is trickier because you need to determine what represents **YES** and **NO** for each column. For attrition, this is self-explanatory (1 = attrition, 0 = not). For columns like gender, pick either gender as the **YES** gender. Ultimately it will not impact the modeling.\n",
        "\n",
        "**EXERCISE**: Determine the variables that are boolean and put them in a list called `boolean_names`. Use the function `visualize_booleans` to determine YES / NO values, by following the steps below. Then convert the values using the provided function `convert_boolean_df`."
      ]
    },
    {
      "cell_type": "code",
      "metadata": {
        "id": "bjodul2hpj9A"
      },
      "source": [
        "# CREATE A LIST OF BOOLEAN COLUMNS\n"
      ],
      "execution_count": null,
      "outputs": []
    },
    {
      "cell_type": "code",
      "metadata": {
        "id": "29Y0s0GHpj9A"
      },
      "source": [
        "# Visualize the unique names found in each column name by running the function\n",
        "def visualize_booleans(data, boolean_names,):\n",
        "    for name in boolean_names:\n",
        "        print(data[name].drop_duplicates())\n",
        "        print()\n"
      ],
      "execution_count": null,
      "outputs": []
    },
    {
      "cell_type": "code",
      "metadata": {
        "id": "ZjVcwpEUpj9A"
      },
      "source": [
        "#CALL THE VISUALIZE BOOLEANS FUNCTION HERE"
      ],
      "execution_count": null,
      "outputs": []
    },
    {
      "cell_type": "markdown",
      "metadata": {
        "id": "QXYDOKyMpj9B"
      },
      "source": [
        "**EXERCISE**: It looks like we have another column that does not provide us with any unique data and is not actually boolean. Figure out which column that is, and drop it."
      ]
    },
    {
      "cell_type": "code",
      "metadata": {
        "id": "Og8M8K2Fpj9B"
      },
      "source": [
        "# WRITE CODE HERE TO DROP COLUMN\n"
      ],
      "execution_count": null,
      "outputs": []
    },
    {
      "cell_type": "code",
      "metadata": {
        "id": "L2CL5XKtpj9B"
      },
      "source": [
        "#REMOVE REDUNDANT COLUMN FROM boolean_names LIST\n"
      ],
      "execution_count": null,
      "outputs": []
    },
    {
      "cell_type": "markdown",
      "metadata": {
        "id": "cdwmy2Vqpj9B"
      },
      "source": [
        "**EXERCISE**: Finally, create a list of lists in the format shown below, and feed it into the provided function to conver boolean values."
      ]
    },
    {
      "cell_type": "code",
      "metadata": {
        "id": "V11WguJZpj9C"
      },
      "source": [
        "def convert_boolean_df(data, boolean_names_and_values):\n",
        "    for name_value in boolean_names_and_values:\n",
        "        data[name_value[0]] = data[name_value[0]].map({name_value[1]: 1,\n",
        "                                                       name_value[2]: 0})\n"
      ],
      "execution_count": null,
      "outputs": []
    },
    {
      "cell_type": "code",
      "metadata": {
        "id": "_Tp6u1T_pj9C"
      },
      "source": [
        "# CREATE A LIST OF LISTS ALL BOOLEAN COLUMNS\n",
        "# Each list has the order: [COLUMN_NAME, YES_VALUE, NO_VALUE]\n"
      ],
      "execution_count": null,
      "outputs": []
    },
    {
      "cell_type": "code",
      "metadata": {
        "id": "VKihBTAcpj9C"
      },
      "source": [
        "#CALL FUNCTION TO CONVERT BOOLEAN DF HERE\n"
      ],
      "execution_count": null,
      "outputs": []
    },
    {
      "cell_type": "markdown",
      "metadata": {
        "id": "YmFginWtpj9C"
      },
      "source": [
        "**EXERCISE**: Verify you were successful by running `visualize_booleans` again and comparing the results."
      ]
    },
    {
      "cell_type": "code",
      "metadata": {
        "id": "Z6HyTzgopj9C"
      },
      "source": [
        "#VISUALIZE BOOLEAN OUTPUT HERE USING visualize_booleans FUNCTION\n"
      ],
      "execution_count": null,
      "outputs": []
    },
    {
      "cell_type": "markdown",
      "metadata": {
        "id": "waRrynEdpj9D"
      },
      "source": [
        "### 4.e. Normalizing Numerical Data\n",
        "\n",
        "We are almost ready for modeling! The last thing to do is convert our numerical data into something with more context. When we look at something like income for modeling, the actual value means nothing. What **DOES** matter is _how different that value is from other data observations_.\n",
        "\n",
        "Therefore, many data scientists standardize numerical data by fitting it to a normal distribution and storing the _z-score_ rather than the actual values.\n",
        "\n",
        "**EXERCISE**: Create a list of all the columns that need to be normalized (there are many!) and call it `normalized_names`. Then call the function that will normalize them and save them all to `normalized_df`."
      ]
    },
    {
      "cell_type": "code",
      "metadata": {
        "id": "FDeZixMSpj9D"
      },
      "source": [
        "from sklearn.preprocessing import StandardScaler\n",
        "\n",
        "def normalize_values(data, column_names):\n",
        "    normalized_df = StandardScaler().fit_transform(data.loc[:,\n",
        "                                                            column_names])\n",
        "\n",
        "    return pd.DataFrame(normalized_df, columns = column_names)\n"
      ],
      "execution_count": null,
      "outputs": []
    },
    {
      "cell_type": "code",
      "metadata": {
        "id": "mQTd3khJpj9D"
      },
      "source": [
        "#WRITE NORMALIZED COLUMN NAMES LIST HERE\n"
      ],
      "execution_count": null,
      "outputs": []
    },
    {
      "cell_type": "code",
      "metadata": {
        "id": "GYT0DqKVpj9E"
      },
      "source": [
        "#CALL normalize_values FUNCTION HERE\n"
      ],
      "execution_count": null,
      "outputs": []
    },
    {
      "cell_type": "markdown",
      "metadata": {
        "id": "2EQjshW6pj9E"
      },
      "source": [
        "**EXERCISE**: Verify you were successful by viewing the head of the normalized_df"
      ]
    },
    {
      "cell_type": "code",
      "metadata": {
        "id": "0siUmn4npj9E"
      },
      "source": [
        "#VIEW HEAD OF NORMALIZED DF HERE\n"
      ],
      "execution_count": null,
      "outputs": []
    },
    {
      "cell_type": "markdown",
      "metadata": {
        "id": "EVLPvQVUpj9E"
      },
      "source": [
        "### 4.f. Finalizing the Modeling Dataset\n",
        "\n",
        "Finally, we are ready to combine everything together into a modeling dataset. The dataset df is refined for you below to trim out all values that we have changed.\n",
        "\n",
        "**EXERCISE**: Using all of the previously created dataframes, including `boolean_df`,`normalized_df`,`ordinal_df`, and `categorical_df`, combine all of the data into a single flat dataset."
      ]
    },
    {
      "cell_type": "code",
      "metadata": {
        "id": "n28DnqPupj9F"
      },
      "source": [
        "# Editing df to only include preprocessed columns\n"
      ],
      "execution_count": null,
      "outputs": []
    },
    {
      "cell_type": "code",
      "metadata": {
        "id": "2ZxqL59upj9F"
      },
      "source": [
        "#COMBINE ALL DATA TOGETHER HERE (including boolean_df)\n"
      ],
      "execution_count": null,
      "outputs": []
    },
    {
      "cell_type": "markdown",
      "metadata": {
        "id": "hfTg0MRkpj9F"
      },
      "source": [
        "**EXERCISE**: Verify that you combined the data correctly by checking the shape of `df`. You should have 1470 rows and 48 columns"
      ]
    },
    {
      "cell_type": "code",
      "metadata": {
        "id": "zocpJl6bpj9F",
        "outputId": "b05873dc-7188-41ef-cb75-c990d2525c61",
        "colab": {
          "base_uri": "https://localhost:8080/"
        }
      },
      "source": [
        "#VIEW SHAPE OF DF HERE\n",
        "df.shape"
      ],
      "execution_count": null,
      "outputs": [
        {
          "output_type": "execute_result",
          "data": {
            "text/plain": [
              "(1470, 48)"
            ]
          },
          "metadata": {},
          "execution_count": 85
        }
      ]
    },
    {
      "cell_type": "markdown",
      "metadata": {
        "id": "4PlyJLU2pj9G"
      },
      "source": [
        "## 5. Model Training and Evaluation\n",
        "\n",
        "Finally, we are ready to start modeling. In this section we will compare the performance of three fairly basic Machine Learning algorithms and see how well they can predict attrition.\n",
        "\n",
        "The three models are listed below, and will be implemented using Scikit-Learn, one of the most popular ML packages in Python:\n",
        "\n",
        "    1.) Gaussian Naive Bayes (GNB)\n",
        "    2.) Logistic Regression (LOG)\n",
        "    3.) Random Forest (RF)\n",
        "\n",
        "Additionally, we will look at the results from a clustering algorithm. For this excercise, we will use K-Means Clustering (KMC)\n",
        "    \n",
        "Here is a quick blurb on how each of these ML algorithms work.\n",
        "   \n",
        "  \n",
        "- **GNB**\n",
        "    \n",
        "Probabilistically examines the mean characteristics of the stereotypical attrition and non-attrition individual. Assuming feature independence (naivete), the unknown person is classified based on the stereotype in which they are characteristically most similar.\n",
        "  \n",
        "- **LOG**\n",
        "\n",
        "Regression system that classifies individuals by determining an optimal separation boundary between individuals that were characterized by attrition and those that were not.\n",
        "\n",
        "- **RF**\n",
        "\n",
        "During training, this model creates a set of decision trees. For a given input, the model outputs whatever is selected by the greatest number of decision trees.\n",
        "\n",
        "\n",
        "- **KMC**\n",
        "\n",
        "K-Means Clustering, unlike the machine learning models, does not directly label an input. Instead, it groups the inputs into a number of clusters, *k*, based on similarity. This is not to be confused with K-Nearest Neighbors, which instead takes a set of *labelled data* and learns to classify inputs."
      ]
    },
    {
      "cell_type": "markdown",
      "metadata": {
        "id": "vtaYYSx-pj9G"
      },
      "source": [
        "### 5.a. Importing Models\n",
        "\n",
        "For convenience, the models have been imported below"
      ]
    },
    {
      "cell_type": "code",
      "metadata": {
        "id": "QKmkgVybpj9G"
      },
      "source": [
        "# GNB\n",
        "from sklearn.naive_bayes import GaussianNB\n",
        "\n",
        "# LOG\n",
        "from sklearn.linear_model import LogisticRegression\n",
        "\n",
        "# RF\n",
        "from sklearn.ensemble import RandomForestClassifier\n",
        "\n",
        "# KMC\n",
        "from sklearn.cluster import KMeans"
      ],
      "execution_count": null,
      "outputs": []
    },
    {
      "cell_type": "markdown",
      "metadata": {
        "id": "y8bbC1Jcpj9J"
      },
      "source": [
        "Before we can do anything with these models, we need to instantiate them.\n",
        "\n",
        "**EXERCISE**: Instantiate all three models below, setting them to the names of their abbreviations (this is simple, do not overthink this).\n",
        "\n",
        "There will be a separate section for the unsupervised K-Means Clustering."
      ]
    },
    {
      "cell_type": "code",
      "metadata": {
        "id": "iGdKE8PZpj9J"
      },
      "source": [
        "# GNB\n",
        "\n",
        "# LOG\n",
        "\n",
        "# RF\n",
        "\n",
        "# KMC\n"
      ],
      "execution_count": null,
      "outputs": []
    },
    {
      "cell_type": "markdown",
      "metadata": {
        "id": "BQOieIuIpj9K"
      },
      "source": [
        "### 5.b. Split the data into train and test slices\n",
        "\n",
        "To evaluate models in an unbiased way, we have to set some data aside that the model will not see during training. This process is called train test split.\n",
        "\n",
        "The train test split function is provided to you below. It splits the input and target (**target = Attrition**) data into slices. The output variables are X_train, X_test, y_train, and y_test **in that order**. Make the split on 25% of the data."
      ]
    },
    {
      "cell_type": "code",
      "metadata": {
        "id": "QpPwHEyspj9K"
      },
      "source": [
        "from sklearn.model_selection import train_test_split"
      ],
      "execution_count": null,
      "outputs": []
    },
    {
      "cell_type": "code",
      "metadata": {
        "id": "rqmDW5fipj9K"
      },
      "source": [
        "X_train, X_test, y_train, y_test = train_test_split(df.loc[:, df.columns != \"Attrition\"],\n",
        "                                                    df.loc[:, \"Attrition\"],\n",
        "                                                    test_size = 0.25)"
      ],
      "execution_count": null,
      "outputs": []
    },
    {
      "cell_type": "markdown",
      "metadata": {
        "id": "IBF34ReVpj9K"
      },
      "source": [
        "### 5.c. Train all of the models\n",
        "\n",
        "Now we are ready to train the models! In order to train the models, you must call `.fit` on each model. Be sure to only give the model the training data! e.g.) model.fit(train_x_values, train_y_values)\n",
        "\n",
        "**EXERCISE**: Call `.fit` for all of the instantiated models."
      ]
    },
    {
      "cell_type": "code",
      "metadata": {
        "id": "JZoRsK0tpj9L"
      },
      "source": [
        "# GNB\n",
        "\n",
        "# LOG\n",
        "\n",
        "# RF\n"
      ],
      "execution_count": null,
      "outputs": []
    },
    {
      "cell_type": "markdown",
      "metadata": {
        "id": "qir_Hc_0pj9L"
      },
      "source": [
        "### 5.d. Make prediction for all of the models\n",
        "\n",
        "Now we can use our trained models to predict. You can do so by providing **ONLY THE TRAINING DATA** to the trained model and calling `.predict`. e.g.) model.predict(test_x_values)\n",
        "\n",
        "**EXERCISE**: Call `.predict` for all of the instantiated models. Save all output as \"<MODEL_NAME>_preds\". e.g.) KNN_preds."
      ]
    },
    {
      "cell_type": "code",
      "metadata": {
        "id": "zTLYQb9spj9L"
      },
      "source": [
        "# GNB\n",
        "\n",
        "# LOG\n",
        "\n",
        "# RF\n"
      ],
      "execution_count": null,
      "outputs": []
    },
    {
      "cell_type": "markdown",
      "metadata": {
        "id": "X2cn2HsYpj9M"
      },
      "source": [
        "### 5.e. Evaluate performance for all models\n",
        "\n",
        "**EXERCISE**: Now that we have predictions, use the function provided below to determine which model is best! See the function's inputs for what you need to provide (**HINT**: which of the `train_test_split` slices includes the actual classes for the test data?)"
      ]
    },
    {
      "cell_type": "code",
      "metadata": {
        "id": "9aoOC0NEpj9M"
      },
      "source": [
        "from sklearn.metrics import classification_report\n",
        "\n",
        "def get_performance(model_name, actual_results, predictions):\n",
        "    print(model_name + \"\\n\" +\n",
        "          classification_report(actual_results,\n",
        "                                predictions))\n",
        "    print(\"\\n================================================================================\\n\")"
      ],
      "execution_count": null,
      "outputs": []
    },
    {
      "cell_type": "code",
      "metadata": {
        "id": "gMFesjqepj9M"
      },
      "source": [
        "#GNB PERFORMANCE\n",
        "\n",
        "#LOG PERFORMANCE\n",
        "\n",
        "#RF PERFORMANCE\n"
      ],
      "execution_count": null,
      "outputs": []
    },
    {
      "cell_type": "markdown",
      "metadata": {
        "id": "xBBrjFuUpj9M"
      },
      "source": [
        "**EXERCISE**: Which model was the best?\n",
        "    \n",
        "<input type=\"checkbox\" align = \"right\"> GNB  $\\;\\;\\;\\;$ <input type=\"checkbox\" align = \"right\" > LOG $\\;\\;\\;\\;$ <input type=\"checkbox\" align = \"right\"> RF\n",
        "\n"
      ]
    },
    {
      "cell_type": "markdown",
      "source": [
        "K-Means Clustering is an *unsupervised learning* technique. This means that we will not split up the data into testing and training sets, but rather we will use this algorithm to breakdown our total population into two groups. Then, we can look at how their characteristics diverge.\n",
        "\n",
        "Selection of the correct number of clusters is done using the \"elbow test\". Feel free to learn more on your own, but we have provided the number of clusters you need to use for this exercise. Additionally, we will use a random_state of 20 for reproducibility."
      ],
      "metadata": {
        "id": "cAoebKLcxpbB"
      }
    },
    {
      "cell_type": "markdown",
      "source": [
        "**EXERCISE:** Create a copy of our dataset and assign it to the variable *df_KMC*. Drop Attrition from our *df_KMC*. Typically, we would also need to scale our dataset, but we already did that to run our previous models."
      ],
      "metadata": {
        "id": "sHmWX_HYzXcp"
      }
    },
    {
      "cell_type": "code",
      "source": [
        "# CREATE A COPY OF OUR DATA\n",
        "\n",
        "# DROP THE ATTRITION COLUMN\n"
      ],
      "metadata": {
        "id": "Uu96-Hv-zPwa"
      },
      "execution_count": null,
      "outputs": []
    },
    {
      "cell_type": "markdown",
      "source": [
        "**EXERCISE:** We need to first initialize our KMC model and fit it to *df_KMC*. Then save our KMC model's *centroids* and *assignments* to variables of the same name."
      ],
      "metadata": {
        "id": "MiRBcLLtybTT"
      }
    },
    {
      "cell_type": "code",
      "source": [
        "# SET THE CLUSTER NUMBER TO 2, RANDOM STATE TO 20, and FIT IT USING THE df_KMC data\n",
        "\n",
        "# SAVE THE CENTROIDS OF THE KMC MODEL\n",
        "\n",
        "# SAVE THE KMC ASSIGNMENTS"
      ],
      "metadata": {
        "id": "SyiyXxmzyrPB"
      },
      "execution_count": null,
      "outputs": []
    },
    {
      "cell_type": "markdown",
      "source": [
        "**EXERCISE:** On our initial *df* dataframe, create a column labeled *Cluster* with the KMC assignments as the data. Also create a pivot table on the new Cluster column using *np.mean* as the aggregate function.\n",
        "\n"
      ],
      "metadata": {
        "id": "F1Ze8Y-k3bte"
      }
    },
    {
      "cell_type": "code",
      "source": [
        "# CREATE A NEW COLUMN NAMED 'Cluster' WITH THE DATA FROM THE *assignments* VARIABLE\n",
        "\n",
        "# CREATE A PIVOT TABLE NAMED 'pivot' ON THE 'Cluster' COLUMN\n"
      ],
      "metadata": {
        "id": "t6zF_Ppd00Xl"
      },
      "execution_count": null,
      "outputs": []
    },
    {
      "cell_type": "markdown",
      "source": [
        "The below function creates a new calculated column named '% of Attrition' on each cluster."
      ],
      "metadata": {
        "id": "KheY7h7S3623"
      }
    },
    {
      "cell_type": "code",
      "source": [
        "# CREATE A NEW COLUMN WITH % OF ATTRITION ON OUR ORIGINAL DATAFRAME\n",
        "def calc_percent_attrition(df, pivot):\n",
        "  counter0=0\n",
        "  counter1=0\n",
        "  percentages=[]\n",
        "  for i in range(0,df['Cluster'].size):\n",
        "      if(df['Cluster'][i] == 0):\n",
        "          counter0+=1\n",
        "      if(df['Cluster'][i] == 1):\n",
        "          counter1+=1\n",
        "  percentages.append(counter0/df['Cluster'].size)\n",
        "  percentages.append(counter1/df['Cluster'].size)\n",
        "  for i in range(len(percentages)):\n",
        "      pivot.loc[i, '% of Attrition'] = percentages[i]*100\n",
        "  return df, pivot\n"
      ],
      "metadata": {
        "id": "84yyvVAh1NZS"
      },
      "execution_count": null,
      "outputs": []
    },
    {
      "cell_type": "markdown",
      "source": [
        "**EXERCISE: ** Run the *calc_percent_attrition* function on the original dataframe and pivot table"
      ],
      "metadata": {
        "id": "B0PfY47SCGrg"
      }
    },
    {
      "cell_type": "code",
      "source": [
        "#RUN calc_percent_attrition\n",
        "df, pivot = calc_percent_attrition(df, pivot)"
      ],
      "metadata": {
        "id": "N1lR9DPwB96T"
      },
      "execution_count": null,
      "outputs": []
    },
    {
      "cell_type": "markdown",
      "source": [
        "**EXERCISE:** Show the pivot table. What significant differences do you see?"
      ],
      "metadata": {
        "id": "UFbu-Bj34Vn9"
      }
    },
    {
      "cell_type": "code",
      "source": [
        "#RETURN THE PIVOT TABLE"
      ],
      "metadata": {
        "id": "APSgIfNn1boq"
      },
      "execution_count": null,
      "outputs": []
    },
    {
      "cell_type": "markdown",
      "source": [
        "**Congratulations! You've completed the WMP ML KTS.**"
      ],
      "metadata": {
        "id": "nBv7GBCr460S"
      }
    },
    {
      "cell_type": "markdown",
      "metadata": {
        "id": "3oAWvIpypj9N"
      },
      "source": [
        "## Advanced Exercises\n",
        "\n",
        "If you liked this tutorial, want to get involved in Machine Learning at West Monroe, or both, please go ahead and try the following additional exercises.\n",
        "\n",
        "1. In this tutorial we used the package Scikit-learn to examine different Machine Learning algorithms and their ability to predict attrition with the given data. For the simplest of these algorithms, K-Nearest Neighbors, implement the algorithm from scratch (no Sklearn!) and compare the results to the findings in your notebook.\n",
        "\n",
        "2. Really love this stuff? Are you a math whiz? Implement a Gaussian Naive Bayes' classifier from scratch to classify this data. Compare its performance to the Scikit-learn GNB. If you do so successfully, you will get an all-analytics shout out!\n",
        "\n",
        "3. Want to flex your presentation skills? Build a visualization or deck intended for a non-technical audience to showcase your findings"
      ]
    }
  ]
}